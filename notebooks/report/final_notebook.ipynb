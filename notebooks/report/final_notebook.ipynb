{
 "cells": [
  {
   "cell_type": "markdown",
   "metadata": {},
   "source": [
    "# Final Report and Summary of Analysis: AI Scout for Improved Player Evaluation"
   ]
  },
  {
   "cell_type": "markdown",
   "metadata": {},
   "source": [
    "#### CONTENTS\n",
    "\n",
    "    I. Purpose\n",
    "    II. Data\n",
    "    III. Modeling\n",
    "    IV. Conclusions\n",
    "    V. Recommendations\n",
    "    VI. Next Steps"
   ]
  },
  {
   "cell_type": "code",
   "execution_count": 110,
   "metadata": {},
   "outputs": [
    {
     "name": "stdout",
     "output_type": "stream",
     "text": [
      "The autoreload extension is already loaded. To reload it, use:\n",
      "  %reload_ext autoreload\n"
     ]
    }
   ],
   "source": [
    "# Imports\n",
    "%load_ext autoreload\n",
    "%autoreload 2\n",
    "\n",
    "import os\n",
    "import sys\n",
    "\n",
    "module_path = os.path.abspath(os.path.join(os.pardir, os.pardir))\n",
    "if module_path not in sys.path:\n",
    "    sys.path.append(module_path)\n",
    "\n",
    "from sklearn.metrics import confusion_matrix, accuracy_score\n",
    "from sklearn.model_selection import cross_val_score, cross_val_predict\n",
    "from sklearn.manifold import TSNE\n",
    "from sklearn.cluster import KMeans\n",
    "from sklearn.decomposition import PCA\n",
    "from sklearn.preprocessing import StandardScaler\n",
    "from sklearn.discriminant_analysis import LinearDiscriminantAnalysis\n",
    "import pandas as pd\n",
    "import numpy as np\n",
    "import seaborn as sns\n",
    "import seaborn as sns\n",
    "import matplotlib.pyplot as plt\n",
    "%matplotlib inline\n",
    "import sqlite3\n",
    "\n",
    "import warnings\n",
    "warnings.filterwarnings('ignore', category=DeprecationWarning)\n",
    "warnings.filterwarnings('ignore', category=FutureWarning)\n",
    "\n",
    "from src import model_functions as mf\n",
    "from src import data_cleaning as dc"
   ]
  },
  {
   "cell_type": "markdown",
   "metadata": {},
   "source": [
    "## I. Purpose\n",
    "\n",
    "Prior to last season the NBA launched the G-League to develop players coming out of high school that choose not to go to college. With this new opportunity to sign players out of high school, new development strategies are being implemented and knowing when to pull the plug on a player, and who to draft in order to fill out your roster. Using standard and advanced metrics, I’m creating an AI Scout for NBA general managers that predicts the probability of a prospect becoming a specific player type of the modern league given past performance and their physical characteristics. \n",
    "\n",
    "#### Goals:\n",
    "- Use advanced metrics to better classify modern NBA player roles. \n",
    "- Using this new lens, develop a machine learning model to predict a young player's potential NBA classification or player role as they develop. \n",
    "\n",
    "With this tool, scouts and front office executives would have a better understanding of a young player's potential career trajectory, track that player's development progress year over year, and help make decisions on contract commitments."
   ]
  },
  {
   "cell_type": "markdown",
   "metadata": {},
   "source": [
    "## II. Data\n",
    "\n",
    "Descriptions of the statistical categories used can be found in the `readme` file of the `data` folder. \n",
    "\n",
    "In order to classify modern nba players, this project uses advanced metrics that take advantage of player tracking and play-by-play data that isn’t available in traditional box scores.\n",
    "\n",
    "- NBA Advanced Metrics from FiveThirtyEight Sports [`repository link`](https://github.com/fivethirtyeight/nba-player-advanced-metrics)\n",
    "\n",
    "We'll use historical college statistics of our newly classified modern nba players in order to create the prediction model. Cross Validation will be used to train and test the model. \n",
    "\n",
    "- NCAA College statistics are available from [basketball-reference.com](https://basketball-reference.com). The dataset used in this project was obtained through [barttorvik.com](https://barttorvik.com)"
   ]
  },
  {
   "cell_type": "markdown",
   "metadata": {},
   "source": [
    "Each row of data in these datasets represents a single season for the given player.\n",
    "\n",
    "### *This notebook uses the SQLite3 database created in the notebook 00_create_database. Please go to the `/exploratory` folder of this repository and run those commands in order to reproduce this work.*"
   ]
  },
  {
   "cell_type": "markdown",
   "metadata": {},
   "source": [
    "#### Import Data"
   ]
  },
  {
   "cell_type": "code",
   "execution_count": 15,
   "metadata": {},
   "outputs": [],
   "source": [
    "import sqlite3\n",
    "\n",
    "pd.set_option('display.max_columns', 500)\n",
    "\n",
    "conn = sqlite3.connect('../../notebooks/exploratory/AI_SCOUT.db')"
   ]
  },
  {
   "cell_type": "code",
   "execution_count": 118,
   "metadata": {},
   "outputs": [
    {
     "data": {
      "text/html": [
       "<div>\n",
       "<style scoped>\n",
       "    .dataframe tbody tr th:only-of-type {\n",
       "        vertical-align: middle;\n",
       "    }\n",
       "\n",
       "    .dataframe tbody tr th {\n",
       "        vertical-align: top;\n",
       "    }\n",
       "\n",
       "    .dataframe thead th {\n",
       "        text-align: right;\n",
       "    }\n",
       "</style>\n",
       "<table border=\"1\" class=\"dataframe\">\n",
       "  <thead>\n",
       "    <tr style=\"text-align: right;\">\n",
       "      <th></th>\n",
       "      <th>player_id</th>\n",
       "      <th>name_common</th>\n",
       "      <th>year_id</th>\n",
       "      <th>age</th>\n",
       "      <th>pos</th>\n",
       "      <th>team_id</th>\n",
       "      <th>tmRtg</th>\n",
       "      <th>franch_id</th>\n",
       "      <th>G</th>\n",
       "      <th>Min</th>\n",
       "      <th>MP%</th>\n",
       "      <th>MPG</th>\n",
       "      <th>P/36</th>\n",
       "      <th>TS%</th>\n",
       "      <th>A/36</th>\n",
       "      <th>R/36</th>\n",
       "      <th>SB/36</th>\n",
       "      <th>TO/36</th>\n",
       "      <th>Raptor O</th>\n",
       "      <th>Raptor D</th>\n",
       "      <th>Raptor+/-</th>\n",
       "      <th>Raptor WAR</th>\n",
       "      <th>PIE%</th>\n",
       "      <th>AWS%</th>\n",
       "      <th>USG%</th>\n",
       "      <th>AST%</th>\n",
       "      <th>TOV%</th>\n",
       "      <th>ORB%</th>\n",
       "      <th>DRB%</th>\n",
       "      <th>TRB%</th>\n",
       "      <th>STL%</th>\n",
       "      <th>BLK%</th>\n",
       "      <th>ORtg</th>\n",
       "      <th>%Pos</th>\n",
       "      <th>DRtg</th>\n",
       "      <th>2P%</th>\n",
       "      <th>3P%</th>\n",
       "      <th>FT%</th>\n",
       "      <th>3PAr</th>\n",
       "      <th>FTAr</th>\n",
       "    </tr>\n",
       "  </thead>\n",
       "  <tbody>\n",
       "    <tr>\n",
       "      <td>0</td>\n",
       "      <td>youngtr01</td>\n",
       "      <td>Trae Young</td>\n",
       "      <td>2020</td>\n",
       "      <td>21</td>\n",
       "      <td>PG</td>\n",
       "      <td>ATL</td>\n",
       "      <td>-7.6</td>\n",
       "      <td>ATL</td>\n",
       "      <td>60</td>\n",
       "      <td>2120</td>\n",
       "      <td>65.1</td>\n",
       "      <td>35.3</td>\n",
       "      <td>29.3</td>\n",
       "      <td>59.5</td>\n",
       "      <td>9.2</td>\n",
       "      <td>4.2</td>\n",
       "      <td>1.2</td>\n",
       "      <td>4.8</td>\n",
       "      <td>7.1</td>\n",
       "      <td>-3.5</td>\n",
       "      <td>3.6</td>\n",
       "      <td>7.0</td>\n",
       "      <td>17.0</td>\n",
       "      <td>15.4</td>\n",
       "      <td>34.9</td>\n",
       "      <td>45.6</td>\n",
       "      <td>16.2</td>\n",
       "      <td>1.6</td>\n",
       "      <td>11.5</td>\n",
       "      <td>6.5</td>\n",
       "      <td>1.4</td>\n",
       "      <td>0.3</td>\n",
       "      <td>113.6</td>\n",
       "      <td>36.1</td>\n",
       "      <td>117.2</td>\n",
       "      <td>50.1</td>\n",
       "      <td>36.1</td>\n",
       "      <td>86.0</td>\n",
       "      <td>45.5</td>\n",
       "      <td>44.8</td>\n",
       "    </tr>\n",
       "    <tr>\n",
       "      <td>1</td>\n",
       "      <td>huntede01</td>\n",
       "      <td>De'Andre Hunter</td>\n",
       "      <td>2020</td>\n",
       "      <td>22</td>\n",
       "      <td>SF</td>\n",
       "      <td>ATL</td>\n",
       "      <td>-7.6</td>\n",
       "      <td>ATL</td>\n",
       "      <td>63</td>\n",
       "      <td>2018</td>\n",
       "      <td>62.0</td>\n",
       "      <td>32.0</td>\n",
       "      <td>13.5</td>\n",
       "      <td>52.1</td>\n",
       "      <td>1.9</td>\n",
       "      <td>5.0</td>\n",
       "      <td>1.1</td>\n",
       "      <td>1.8</td>\n",
       "      <td>-2.5</td>\n",
       "      <td>-1.3</td>\n",
       "      <td>-3.8</td>\n",
       "      <td>-1.1</td>\n",
       "      <td>5.9</td>\n",
       "      <td>4.7</td>\n",
       "      <td>17.5</td>\n",
       "      <td>8.0</td>\n",
       "      <td>12.1</td>\n",
       "      <td>2.3</td>\n",
       "      <td>13.1</td>\n",
       "      <td>7.6</td>\n",
       "      <td>1.0</td>\n",
       "      <td>0.7</td>\n",
       "      <td>99.5</td>\n",
       "      <td>16.9</td>\n",
       "      <td>117.3</td>\n",
       "      <td>45.4</td>\n",
       "      <td>35.5</td>\n",
       "      <td>76.4</td>\n",
       "      <td>44.5</td>\n",
       "      <td>21.1</td>\n",
       "    </tr>\n",
       "    <tr>\n",
       "      <td>2</td>\n",
       "      <td>huertke01</td>\n",
       "      <td>Kevin Huerter</td>\n",
       "      <td>2020</td>\n",
       "      <td>21</td>\n",
       "      <td>SG</td>\n",
       "      <td>ATL</td>\n",
       "      <td>-7.6</td>\n",
       "      <td>ATL</td>\n",
       "      <td>56</td>\n",
       "      <td>1760</td>\n",
       "      <td>54.1</td>\n",
       "      <td>31.4</td>\n",
       "      <td>13.6</td>\n",
       "      <td>53.6</td>\n",
       "      <td>4.2</td>\n",
       "      <td>4.5</td>\n",
       "      <td>1.5</td>\n",
       "      <td>1.7</td>\n",
       "      <td>-0.4</td>\n",
       "      <td>-2.4</td>\n",
       "      <td>-2.8</td>\n",
       "      <td>-0.1</td>\n",
       "      <td>8.0</td>\n",
       "      <td>8.1</td>\n",
       "      <td>17.1</td>\n",
       "      <td>17.5</td>\n",
       "      <td>12.0</td>\n",
       "      <td>2.1</td>\n",
       "      <td>12.0</td>\n",
       "      <td>7.0</td>\n",
       "      <td>1.4</td>\n",
       "      <td>1.3</td>\n",
       "      <td>107.1</td>\n",
       "      <td>17.2</td>\n",
       "      <td>116.5</td>\n",
       "      <td>45.3</td>\n",
       "      <td>38.0</td>\n",
       "      <td>82.8</td>\n",
       "      <td>54.8</td>\n",
       "      <td>10.5</td>\n",
       "    </tr>\n",
       "    <tr>\n",
       "      <td>3</td>\n",
       "      <td>reddica01</td>\n",
       "      <td>Cam Reddish</td>\n",
       "      <td>2020</td>\n",
       "      <td>20</td>\n",
       "      <td>SF</td>\n",
       "      <td>ATL</td>\n",
       "      <td>-7.6</td>\n",
       "      <td>ATL</td>\n",
       "      <td>58</td>\n",
       "      <td>1551</td>\n",
       "      <td>47.6</td>\n",
       "      <td>26.7</td>\n",
       "      <td>13.7</td>\n",
       "      <td>50.0</td>\n",
       "      <td>2.0</td>\n",
       "      <td>4.9</td>\n",
       "      <td>2.0</td>\n",
       "      <td>2.2</td>\n",
       "      <td>-2.8</td>\n",
       "      <td>-0.1</td>\n",
       "      <td>-3.0</td>\n",
       "      <td>-0.2</td>\n",
       "      <td>5.9</td>\n",
       "      <td>5.0</td>\n",
       "      <td>18.9</td>\n",
       "      <td>8.0</td>\n",
       "      <td>13.6</td>\n",
       "      <td>2.4</td>\n",
       "      <td>12.7</td>\n",
       "      <td>7.5</td>\n",
       "      <td>1.9</td>\n",
       "      <td>1.5</td>\n",
       "      <td>94.7</td>\n",
       "      <td>18.3</td>\n",
       "      <td>115.0</td>\n",
       "      <td>42.8</td>\n",
       "      <td>33.2</td>\n",
       "      <td>80.2</td>\n",
       "      <td>45.1</td>\n",
       "      <td>22.7</td>\n",
       "    </tr>\n",
       "    <tr>\n",
       "      <td>4</td>\n",
       "      <td>collijo01</td>\n",
       "      <td>John Collins</td>\n",
       "      <td>2020</td>\n",
       "      <td>22</td>\n",
       "      <td>PF</td>\n",
       "      <td>ATL</td>\n",
       "      <td>-7.6</td>\n",
       "      <td>ATL</td>\n",
       "      <td>41</td>\n",
       "      <td>1363</td>\n",
       "      <td>41.9</td>\n",
       "      <td>33.2</td>\n",
       "      <td>22.7</td>\n",
       "      <td>65.9</td>\n",
       "      <td>1.5</td>\n",
       "      <td>10.7</td>\n",
       "      <td>2.5</td>\n",
       "      <td>1.9</td>\n",
       "      <td>0.0</td>\n",
       "      <td>-0.3</td>\n",
       "      <td>-0.3</td>\n",
       "      <td>1.7</td>\n",
       "      <td>15.6</td>\n",
       "      <td>17.1</td>\n",
       "      <td>22.7</td>\n",
       "      <td>7.6</td>\n",
       "      <td>10.1</td>\n",
       "      <td>9.0</td>\n",
       "      <td>24.0</td>\n",
       "      <td>16.4</td>\n",
       "      <td>1.1</td>\n",
       "      <td>4.1</td>\n",
       "      <td>123.7</td>\n",
       "      <td>21.6</td>\n",
       "      <td>112.2</td>\n",
       "      <td>64.2</td>\n",
       "      <td>40.1</td>\n",
       "      <td>80.0</td>\n",
       "      <td>24.3</td>\n",
       "      <td>24.8</td>\n",
       "    </tr>\n",
       "  </tbody>\n",
       "</table>\n",
       "</div>"
      ],
      "text/plain": [
       "   player_id      name_common  year_id  age pos team_id  tmRtg franch_id   G  \\\n",
       "0  youngtr01       Trae Young     2020   21  PG     ATL   -7.6       ATL  60   \n",
       "1  huntede01  De'Andre Hunter     2020   22  SF     ATL   -7.6       ATL  63   \n",
       "2  huertke01    Kevin Huerter     2020   21  SG     ATL   -7.6       ATL  56   \n",
       "3  reddica01      Cam Reddish     2020   20  SF     ATL   -7.6       ATL  58   \n",
       "4  collijo01     John Collins     2020   22  PF     ATL   -7.6       ATL  41   \n",
       "\n",
       "    Min   MP%   MPG  P/36   TS%  A/36  R/36  SB/36  TO/36  Raptor O  Raptor D  \\\n",
       "0  2120  65.1  35.3  29.3  59.5   9.2   4.2    1.2    4.8       7.1      -3.5   \n",
       "1  2018  62.0  32.0  13.5  52.1   1.9   5.0    1.1    1.8      -2.5      -1.3   \n",
       "2  1760  54.1  31.4  13.6  53.6   4.2   4.5    1.5    1.7      -0.4      -2.4   \n",
       "3  1551  47.6  26.7  13.7  50.0   2.0   4.9    2.0    2.2      -2.8      -0.1   \n",
       "4  1363  41.9  33.2  22.7  65.9   1.5  10.7    2.5    1.9       0.0      -0.3   \n",
       "\n",
       "   Raptor+/-  Raptor WAR  PIE%  AWS%  USG%  AST%  TOV%  ORB%  DRB%  TRB%  \\\n",
       "0        3.6         7.0  17.0  15.4  34.9  45.6  16.2   1.6  11.5   6.5   \n",
       "1       -3.8        -1.1   5.9   4.7  17.5   8.0  12.1   2.3  13.1   7.6   \n",
       "2       -2.8        -0.1   8.0   8.1  17.1  17.5  12.0   2.1  12.0   7.0   \n",
       "3       -3.0        -0.2   5.9   5.0  18.9   8.0  13.6   2.4  12.7   7.5   \n",
       "4       -0.3         1.7  15.6  17.1  22.7   7.6  10.1   9.0  24.0  16.4   \n",
       "\n",
       "   STL%  BLK%   ORtg  %Pos   DRtg   2P%   3P%   FT%  3PAr  FTAr  \n",
       "0   1.4   0.3  113.6  36.1  117.2  50.1  36.1  86.0  45.5  44.8  \n",
       "1   1.0   0.7   99.5  16.9  117.3  45.4  35.5  76.4  44.5  21.1  \n",
       "2   1.4   1.3  107.1  17.2  116.5  45.3  38.0  82.8  54.8  10.5  \n",
       "3   1.9   1.5   94.7  18.3  115.0  42.8  33.2  80.2  45.1  22.7  \n",
       "4   1.1   4.1  123.7  21.6  112.2  64.2  40.1  80.0  24.3  24.8  "
      ]
     },
     "execution_count": 118,
     "metadata": {},
     "output_type": "execute_result"
    }
   ],
   "source": [
    "mod_data = pd.read_sql(\n",
    "    \"\"\"\n",
    "    SELECT * FROM RAPTOR\n",
    "    WHERE year_id BETWEEN 2008 AND 2020\n",
    "    AND G >= 35\n",
    "    \"\"\", conn)\n",
    "mod_data.head()"
   ]
  },
  {
   "cell_type": "code",
   "execution_count": 17,
   "metadata": {},
   "outputs": [
    {
     "data": {
      "text/html": [
       "<div>\n",
       "<style scoped>\n",
       "    .dataframe tbody tr th:only-of-type {\n",
       "        vertical-align: middle;\n",
       "    }\n",
       "\n",
       "    .dataframe tbody tr th {\n",
       "        vertical-align: top;\n",
       "    }\n",
       "\n",
       "    .dataframe thead th {\n",
       "        text-align: right;\n",
       "    }\n",
       "</style>\n",
       "<table border=\"1\" class=\"dataframe\">\n",
       "  <thead>\n",
       "    <tr style=\"text-align: right;\">\n",
       "      <th></th>\n",
       "      <th>player_id</th>\n",
       "      <th>name_common</th>\n",
       "      <th>year_id</th>\n",
       "      <th>age</th>\n",
       "      <th>pos</th>\n",
       "      <th>team_id</th>\n",
       "      <th>tmRtg</th>\n",
       "      <th>franch_id</th>\n",
       "      <th>G</th>\n",
       "      <th>Min</th>\n",
       "      <th>MP%</th>\n",
       "      <th>MPG</th>\n",
       "      <th>P/36</th>\n",
       "      <th>TS%</th>\n",
       "      <th>A/36</th>\n",
       "      <th>R/36</th>\n",
       "      <th>SB/36</th>\n",
       "      <th>TO/36</th>\n",
       "      <th>Raptor O</th>\n",
       "      <th>Raptor D</th>\n",
       "      <th>Raptor+/-</th>\n",
       "      <th>Raptor WAR</th>\n",
       "      <th>PIE%</th>\n",
       "      <th>AWS%</th>\n",
       "      <th>USG%</th>\n",
       "      <th>AST%</th>\n",
       "      <th>TOV%</th>\n",
       "      <th>ORB%</th>\n",
       "      <th>DRB%</th>\n",
       "      <th>TRB%</th>\n",
       "      <th>STL%</th>\n",
       "      <th>BLK%</th>\n",
       "      <th>ORtg</th>\n",
       "      <th>%Pos</th>\n",
       "      <th>DRtg</th>\n",
       "      <th>2P%</th>\n",
       "      <th>3P%</th>\n",
       "      <th>FT%</th>\n",
       "      <th>3PAr</th>\n",
       "      <th>FTAr</th>\n",
       "    </tr>\n",
       "  </thead>\n",
       "  <tbody>\n",
       "    <tr>\n",
       "      <td>0</td>\n",
       "      <td>mutomdi01</td>\n",
       "      <td>Dikembe Mutombo</td>\n",
       "      <td>2000</td>\n",
       "      <td>33</td>\n",
       "      <td>C</td>\n",
       "      <td>ATL</td>\n",
       "      <td>-5.8</td>\n",
       "      <td>ATL</td>\n",
       "      <td>82</td>\n",
       "      <td>2984</td>\n",
       "      <td>75.2</td>\n",
       "      <td>36.4</td>\n",
       "      <td>12.4</td>\n",
       "      <td>62.1</td>\n",
       "      <td>1.4</td>\n",
       "      <td>15.2</td>\n",
       "      <td>3.9</td>\n",
       "      <td>2.3</td>\n",
       "      <td>0.1</td>\n",
       "      <td>1.2</td>\n",
       "      <td>1.3</td>\n",
       "      <td>6.2</td>\n",
       "      <td>14.9</td>\n",
       "      <td>17.3</td>\n",
       "      <td>13.8</td>\n",
       "      <td>5.4</td>\n",
       "      <td>18.7</td>\n",
       "      <td>11.2</td>\n",
       "      <td>31.3</td>\n",
       "      <td>21.2</td>\n",
       "      <td>0.5</td>\n",
       "      <td>5.9</td>\n",
       "      <td>116.1</td>\n",
       "      <td>14.9</td>\n",
       "      <td>100.7</td>\n",
       "      <td>56.2</td>\n",
       "      <td>NaN</td>\n",
       "      <td>70.8</td>\n",
       "      <td>0.0</td>\n",
       "      <td>73.5</td>\n",
       "    </tr>\n",
       "    <tr>\n",
       "      <td>1</td>\n",
       "      <td>hendeal01</td>\n",
       "      <td>Alan Henderson</td>\n",
       "      <td>2000</td>\n",
       "      <td>27</td>\n",
       "      <td>PF</td>\n",
       "      <td>ATL</td>\n",
       "      <td>-5.8</td>\n",
       "      <td>ATL</td>\n",
       "      <td>82</td>\n",
       "      <td>2775</td>\n",
       "      <td>70.0</td>\n",
       "      <td>33.8</td>\n",
       "      <td>15.3</td>\n",
       "      <td>50.3</td>\n",
       "      <td>1.1</td>\n",
       "      <td>8.1</td>\n",
       "      <td>1.9</td>\n",
       "      <td>2.0</td>\n",
       "      <td>-0.7</td>\n",
       "      <td>-0.5</td>\n",
       "      <td>-1.2</td>\n",
       "      <td>2.3</td>\n",
       "      <td>8.2</td>\n",
       "      <td>9.4</td>\n",
       "      <td>19.4</td>\n",
       "      <td>4.6</td>\n",
       "      <td>11.4</td>\n",
       "      <td>10.5</td>\n",
       "      <td>12.1</td>\n",
       "      <td>11.3</td>\n",
       "      <td>1.5</td>\n",
       "      <td>1.3</td>\n",
       "      <td>104.5</td>\n",
       "      <td>19.3</td>\n",
       "      <td>108.5</td>\n",
       "      <td>46.5</td>\n",
       "      <td>10.0</td>\n",
       "      <td>67.1</td>\n",
       "      <td>1.1</td>\n",
       "      <td>35.9</td>\n",
       "    </tr>\n",
       "    <tr>\n",
       "      <td>2</td>\n",
       "      <td>jacksji01</td>\n",
       "      <td>Jim Jackson</td>\n",
       "      <td>2000</td>\n",
       "      <td>29</td>\n",
       "      <td>SF</td>\n",
       "      <td>ATL</td>\n",
       "      <td>-5.8</td>\n",
       "      <td>ATL</td>\n",
       "      <td>79</td>\n",
       "      <td>2767</td>\n",
       "      <td>69.8</td>\n",
       "      <td>35.0</td>\n",
       "      <td>18.7</td>\n",
       "      <td>49.6</td>\n",
       "      <td>3.3</td>\n",
       "      <td>5.6</td>\n",
       "      <td>1.0</td>\n",
       "      <td>2.6</td>\n",
       "      <td>0.2</td>\n",
       "      <td>-1.7</td>\n",
       "      <td>-1.5</td>\n",
       "      <td>1.8</td>\n",
       "      <td>9.6</td>\n",
       "      <td>7.8</td>\n",
       "      <td>24.2</td>\n",
       "      <td>14.5</td>\n",
       "      <td>12.2</td>\n",
       "      <td>4.0</td>\n",
       "      <td>11.6</td>\n",
       "      <td>7.8</td>\n",
       "      <td>1.1</td>\n",
       "      <td>0.2</td>\n",
       "      <td>101.1</td>\n",
       "      <td>23.3</td>\n",
       "      <td>110.4</td>\n",
       "      <td>41.8</td>\n",
       "      <td>38.6</td>\n",
       "      <td>87.7</td>\n",
       "      <td>24.5</td>\n",
       "      <td>17.2</td>\n",
       "    </tr>\n",
       "    <tr>\n",
       "      <td>3</td>\n",
       "      <td>rideris01</td>\n",
       "      <td>Isaiah Rider</td>\n",
       "      <td>2000</td>\n",
       "      <td>28</td>\n",
       "      <td>SG</td>\n",
       "      <td>ATL</td>\n",
       "      <td>-5.8</td>\n",
       "      <td>ATL</td>\n",
       "      <td>60</td>\n",
       "      <td>2084</td>\n",
       "      <td>52.5</td>\n",
       "      <td>34.7</td>\n",
       "      <td>21.8</td>\n",
       "      <td>48.8</td>\n",
       "      <td>4.1</td>\n",
       "      <td>4.9</td>\n",
       "      <td>0.9</td>\n",
       "      <td>3.2</td>\n",
       "      <td>0.2</td>\n",
       "      <td>-2.5</td>\n",
       "      <td>-2.3</td>\n",
       "      <td>0.5</td>\n",
       "      <td>10.0</td>\n",
       "      <td>6.7</td>\n",
       "      <td>28.8</td>\n",
       "      <td>19.4</td>\n",
       "      <td>12.4</td>\n",
       "      <td>3.3</td>\n",
       "      <td>10.2</td>\n",
       "      <td>6.8</td>\n",
       "      <td>1.0</td>\n",
       "      <td>0.2</td>\n",
       "      <td>99.2</td>\n",
       "      <td>27.7</td>\n",
       "      <td>111.0</td>\n",
       "      <td>44.1</td>\n",
       "      <td>31.1</td>\n",
       "      <td>78.5</td>\n",
       "      <td>16.8</td>\n",
       "      <td>24.3</td>\n",
       "    </tr>\n",
       "    <tr>\n",
       "      <td>4</td>\n",
       "      <td>colesbi01</td>\n",
       "      <td>Bimbo Coles</td>\n",
       "      <td>2000</td>\n",
       "      <td>31</td>\n",
       "      <td>PG</td>\n",
       "      <td>ATL</td>\n",
       "      <td>-5.8</td>\n",
       "      <td>ATL</td>\n",
       "      <td>80</td>\n",
       "      <td>1924</td>\n",
       "      <td>48.5</td>\n",
       "      <td>24.1</td>\n",
       "      <td>13.2</td>\n",
       "      <td>49.4</td>\n",
       "      <td>5.9</td>\n",
       "      <td>3.5</td>\n",
       "      <td>1.4</td>\n",
       "      <td>2.1</td>\n",
       "      <td>-0.1</td>\n",
       "      <td>-1.5</td>\n",
       "      <td>-1.6</td>\n",
       "      <td>1.1</td>\n",
       "      <td>8.5</td>\n",
       "      <td>7.1</td>\n",
       "      <td>17.4</td>\n",
       "      <td>24.6</td>\n",
       "      <td>13.6</td>\n",
       "      <td>1.7</td>\n",
       "      <td>8.1</td>\n",
       "      <td>4.9</td>\n",
       "      <td>1.6</td>\n",
       "      <td>0.4</td>\n",
       "      <td>104.4</td>\n",
       "      <td>17.9</td>\n",
       "      <td>110.3</td>\n",
       "      <td>47.2</td>\n",
       "      <td>20.5</td>\n",
       "      <td>81.7</td>\n",
       "      <td>6.4</td>\n",
       "      <td>17.1</td>\n",
       "    </tr>\n",
       "  </tbody>\n",
       "</table>\n",
       "</div>"
      ],
      "text/plain": [
       "   player_id      name_common  year_id  age pos team_id  tmRtg franch_id   G  \\\n",
       "0  mutomdi01  Dikembe Mutombo     2000   33   C     ATL   -5.8       ATL  82   \n",
       "1  hendeal01   Alan Henderson     2000   27  PF     ATL   -5.8       ATL  82   \n",
       "2  jacksji01      Jim Jackson     2000   29  SF     ATL   -5.8       ATL  79   \n",
       "3  rideris01     Isaiah Rider     2000   28  SG     ATL   -5.8       ATL  60   \n",
       "4  colesbi01      Bimbo Coles     2000   31  PG     ATL   -5.8       ATL  80   \n",
       "\n",
       "    Min   MP%   MPG  P/36   TS%  A/36  R/36  SB/36  TO/36  Raptor O  Raptor D  \\\n",
       "0  2984  75.2  36.4  12.4  62.1   1.4  15.2    3.9    2.3       0.1       1.2   \n",
       "1  2775  70.0  33.8  15.3  50.3   1.1   8.1    1.9    2.0      -0.7      -0.5   \n",
       "2  2767  69.8  35.0  18.7  49.6   3.3   5.6    1.0    2.6       0.2      -1.7   \n",
       "3  2084  52.5  34.7  21.8  48.8   4.1   4.9    0.9    3.2       0.2      -2.5   \n",
       "4  1924  48.5  24.1  13.2  49.4   5.9   3.5    1.4    2.1      -0.1      -1.5   \n",
       "\n",
       "   Raptor+/-  Raptor WAR  PIE%  AWS%  USG%  AST%  TOV%  ORB%  DRB%  TRB%  \\\n",
       "0        1.3         6.2  14.9  17.3  13.8   5.4  18.7  11.2  31.3  21.2   \n",
       "1       -1.2         2.3   8.2   9.4  19.4   4.6  11.4  10.5  12.1  11.3   \n",
       "2       -1.5         1.8   9.6   7.8  24.2  14.5  12.2   4.0  11.6   7.8   \n",
       "3       -2.3         0.5  10.0   6.7  28.8  19.4  12.4   3.3  10.2   6.8   \n",
       "4       -1.6         1.1   8.5   7.1  17.4  24.6  13.6   1.7   8.1   4.9   \n",
       "\n",
       "   STL%  BLK%   ORtg  %Pos   DRtg   2P%   3P%   FT%  3PAr  FTAr  \n",
       "0   0.5   5.9  116.1  14.9  100.7  56.2   NaN  70.8   0.0  73.5  \n",
       "1   1.5   1.3  104.5  19.3  108.5  46.5  10.0  67.1   1.1  35.9  \n",
       "2   1.1   0.2  101.1  23.3  110.4  41.8  38.6  87.7  24.5  17.2  \n",
       "3   1.0   0.2   99.2  27.7  111.0  44.1  31.1  78.5  16.8  24.3  \n",
       "4   1.6   0.4  104.4  17.9  110.3  47.2  20.5  81.7   6.4  17.1  "
      ]
     },
     "execution_count": 17,
     "metadata": {},
     "output_type": "execute_result"
    }
   ],
   "source": [
    "old_data = pd.read_sql(\n",
    "    \"\"\"\n",
    "    SELECT * FROM RAPTOR\n",
    "    WHERE year_id BETWEEN 1990 AND 2000\n",
    "    AND G > 35;\n",
    "    \"\"\", conn)\n",
    "old_data.head()"
   ]
  },
  {
   "cell_type": "code",
   "execution_count": 19,
   "metadata": {},
   "outputs": [
    {
     "data": {
      "text/html": [
       "<div>\n",
       "<style scoped>\n",
       "    .dataframe tbody tr th:only-of-type {\n",
       "        vertical-align: middle;\n",
       "    }\n",
       "\n",
       "    .dataframe tbody tr th {\n",
       "        vertical-align: top;\n",
       "    }\n",
       "\n",
       "    .dataframe thead th {\n",
       "        text-align: right;\n",
       "    }\n",
       "</style>\n",
       "<table border=\"1\" class=\"dataframe\">\n",
       "  <thead>\n",
       "    <tr style=\"text-align: right;\">\n",
       "      <th></th>\n",
       "      <th>Pick</th>\n",
       "      <th>Class</th>\n",
       "      <th>Height</th>\n",
       "      <th>Player</th>\n",
       "      <th>Team</th>\n",
       "      <th>Conf</th>\n",
       "      <th>G</th>\n",
       "      <th>Role</th>\n",
       "      <th>BPM</th>\n",
       "      <th>ORtg</th>\n",
       "      <th>Usg</th>\n",
       "      <th>eFG</th>\n",
       "      <th>TS</th>\n",
       "      <th>OR</th>\n",
       "      <th>DR</th>\n",
       "      <th>Ast</th>\n",
       "      <th>TO</th>\n",
       "      <th>A/TO</th>\n",
       "      <th>Blk</th>\n",
       "      <th>Stl</th>\n",
       "      <th>FTR</th>\n",
       "      <th>Far2A</th>\n",
       "      <th>Far2M</th>\n",
       "      <th>Far2%</th>\n",
       "      <th>FTA</th>\n",
       "      <th>FTM</th>\n",
       "      <th>FT%</th>\n",
       "      <th>2P%</th>\n",
       "      <th>3PA</th>\n",
       "      <th>3PM</th>\n",
       "      <th>3P%</th>\n",
       "      <th>Year</th>\n",
       "    </tr>\n",
       "  </thead>\n",
       "  <tbody>\n",
       "    <tr>\n",
       "      <td>0</td>\n",
       "      <td>1</td>\n",
       "      <td>Fr</td>\n",
       "      <td>82</td>\n",
       "      <td>Blake Griffin</td>\n",
       "      <td>Oklahoma</td>\n",
       "      <td>B12</td>\n",
       "      <td>33</td>\n",
       "      <td>None</td>\n",
       "      <td>8.0</td>\n",
       "      <td>109.8</td>\n",
       "      <td>28.6</td>\n",
       "      <td>56.8</td>\n",
       "      <td>58.0</td>\n",
       "      <td>13.9</td>\n",
       "      <td>24.0</td>\n",
       "      <td>16.7</td>\n",
       "      <td>17.4</td>\n",
       "      <td>0.8</td>\n",
       "      <td>3.4</td>\n",
       "      <td>2.2</td>\n",
       "      <td>60.8</td>\n",
       "      <td>116</td>\n",
       "      <td>197</td>\n",
       "      <td>0.589</td>\n",
       "      <td>184</td>\n",
       "      <td>322</td>\n",
       "      <td>0.571</td>\n",
       "      <td>0.6</td>\n",
       "      <td>0</td>\n",
       "      <td>2</td>\n",
       "      <td>0.000</td>\n",
       "      <td>2008</td>\n",
       "    </tr>\n",
       "    <tr>\n",
       "      <td>1</td>\n",
       "      <td>1</td>\n",
       "      <td>Fr</td>\n",
       "      <td>75</td>\n",
       "      <td>Derrick Rose</td>\n",
       "      <td>Memphis</td>\n",
       "      <td>CUSA</td>\n",
       "      <td>40</td>\n",
       "      <td>None</td>\n",
       "      <td>9.5</td>\n",
       "      <td>112.2</td>\n",
       "      <td>26.8</td>\n",
       "      <td>51.7</td>\n",
       "      <td>56.0</td>\n",
       "      <td>5.0</td>\n",
       "      <td>11.7</td>\n",
       "      <td>30.4</td>\n",
       "      <td>19.2</td>\n",
       "      <td>1.8</td>\n",
       "      <td>1.3</td>\n",
       "      <td>2.3</td>\n",
       "      <td>47.0</td>\n",
       "      <td>146</td>\n",
       "      <td>205</td>\n",
       "      <td>0.712</td>\n",
       "      <td>173</td>\n",
       "      <td>332</td>\n",
       "      <td>0.521</td>\n",
       "      <td>23.9</td>\n",
       "      <td>35</td>\n",
       "      <td>104</td>\n",
       "      <td>0.337</td>\n",
       "      <td>2008</td>\n",
       "    </tr>\n",
       "    <tr>\n",
       "      <td>2</td>\n",
       "      <td>2</td>\n",
       "      <td>Fr</td>\n",
       "      <td>81</td>\n",
       "      <td>Michael Beasley</td>\n",
       "      <td>Kansas St.</td>\n",
       "      <td>B12</td>\n",
       "      <td>32</td>\n",
       "      <td>None</td>\n",
       "      <td>14.9</td>\n",
       "      <td>119.8</td>\n",
       "      <td>33.3</td>\n",
       "      <td>56.0</td>\n",
       "      <td>60.8</td>\n",
       "      <td>13.0</td>\n",
       "      <td>30.0</td>\n",
       "      <td>8.7</td>\n",
       "      <td>15.3</td>\n",
       "      <td>0.4</td>\n",
       "      <td>5.6</td>\n",
       "      <td>2.3</td>\n",
       "      <td>48.7</td>\n",
       "      <td>211</td>\n",
       "      <td>272</td>\n",
       "      <td>0.776</td>\n",
       "      <td>260</td>\n",
       "      <td>466</td>\n",
       "      <td>0.558</td>\n",
       "      <td>16.5</td>\n",
       "      <td>35</td>\n",
       "      <td>92</td>\n",
       "      <td>0.380</td>\n",
       "      <td>2008</td>\n",
       "    </tr>\n",
       "    <tr>\n",
       "      <td>3</td>\n",
       "      <td>2</td>\n",
       "      <td>Fr</td>\n",
       "      <td>79</td>\n",
       "      <td>Evan Turner</td>\n",
       "      <td>Ohio St.</td>\n",
       "      <td>B10</td>\n",
       "      <td>37</td>\n",
       "      <td>None</td>\n",
       "      <td>3.4</td>\n",
       "      <td>96.0</td>\n",
       "      <td>20.8</td>\n",
       "      <td>51.9</td>\n",
       "      <td>55.7</td>\n",
       "      <td>4.1</td>\n",
       "      <td>13.8</td>\n",
       "      <td>18.4</td>\n",
       "      <td>29.0</td>\n",
       "      <td>1.0</td>\n",
       "      <td>2.2</td>\n",
       "      <td>2.9</td>\n",
       "      <td>44.4</td>\n",
       "      <td>72</td>\n",
       "      <td>103</td>\n",
       "      <td>0.699</td>\n",
       "      <td>86</td>\n",
       "      <td>163</td>\n",
       "      <td>0.528</td>\n",
       "      <td>29.7</td>\n",
       "      <td>23</td>\n",
       "      <td>69</td>\n",
       "      <td>0.333</td>\n",
       "      <td>2008</td>\n",
       "    </tr>\n",
       "    <tr>\n",
       "      <td>4</td>\n",
       "      <td>2</td>\n",
       "      <td>So</td>\n",
       "      <td>87</td>\n",
       "      <td>Hasheem Thabeet</td>\n",
       "      <td>Connecticut</td>\n",
       "      <td>BE</td>\n",
       "      <td>33</td>\n",
       "      <td>None</td>\n",
       "      <td>6.9</td>\n",
       "      <td>115.7</td>\n",
       "      <td>15.9</td>\n",
       "      <td>60.3</td>\n",
       "      <td>64.3</td>\n",
       "      <td>11.1</td>\n",
       "      <td>14.9</td>\n",
       "      <td>2.2</td>\n",
       "      <td>20.2</td>\n",
       "      <td>0.2</td>\n",
       "      <td>12.9</td>\n",
       "      <td>0.5</td>\n",
       "      <td>89.4</td>\n",
       "      <td>118</td>\n",
       "      <td>169</td>\n",
       "      <td>0.698</td>\n",
       "      <td>114</td>\n",
       "      <td>189</td>\n",
       "      <td>0.603</td>\n",
       "      <td>0.0</td>\n",
       "      <td>0</td>\n",
       "      <td>0</td>\n",
       "      <td>0.000</td>\n",
       "      <td>2008</td>\n",
       "    </tr>\n",
       "  </tbody>\n",
       "</table>\n",
       "</div>"
      ],
      "text/plain": [
       "   Pick Class  Height            Player         Team  Conf   G  Role   BPM  \\\n",
       "0     1    Fr      82    Blake Griffin      Oklahoma   B12  33  None   8.0   \n",
       "1     1    Fr      75     Derrick Rose       Memphis  CUSA  40  None   9.5   \n",
       "2     2    Fr      81  Michael Beasley    Kansas St.   B12  32  None  14.9   \n",
       "3     2    Fr      79      Evan Turner      Ohio St.   B10  37  None   3.4   \n",
       "4     2    So      87  Hasheem Thabeet   Connecticut    BE  33  None   6.9   \n",
       "\n",
       "    ORtg   Usg   eFG    TS    OR    DR   Ast    TO  A/TO   Blk  Stl   FTR  \\\n",
       "0  109.8  28.6  56.8  58.0  13.9  24.0  16.7  17.4   0.8   3.4  2.2  60.8   \n",
       "1  112.2  26.8  51.7  56.0   5.0  11.7  30.4  19.2   1.8   1.3  2.3  47.0   \n",
       "2  119.8  33.3  56.0  60.8  13.0  30.0   8.7  15.3   0.4   5.6  2.3  48.7   \n",
       "3   96.0  20.8  51.9  55.7   4.1  13.8  18.4  29.0   1.0   2.2  2.9  44.4   \n",
       "4  115.7  15.9  60.3  64.3  11.1  14.9   2.2  20.2   0.2  12.9  0.5  89.4   \n",
       "\n",
       "   Far2A  Far2M  Far2%  FTA  FTM    FT%   2P%  3PA  3PM    3P%  Year  \n",
       "0    116    197  0.589  184  322  0.571   0.6    0    2  0.000  2008  \n",
       "1    146    205  0.712  173  332  0.521  23.9   35  104  0.337  2008  \n",
       "2    211    272  0.776  260  466  0.558  16.5   35   92  0.380  2008  \n",
       "3     72    103  0.699   86  163  0.528  29.7   23   69  0.333  2008  \n",
       "4    118    169  0.698  114  189  0.603   0.0    0    0  0.000  2008  "
      ]
     },
     "execution_count": 19,
     "metadata": {},
     "output_type": "execute_result"
    }
   ],
   "source": [
    "ncaa_data = pd.read_sql(\n",
    "    \"\"\"\n",
    "    SELECT * FROM NCAA\n",
    "    \"\"\", conn)\n",
    "ncaa_data.head()"
   ]
  },
  {
   "cell_type": "markdown",
   "metadata": {},
   "source": [
    "#### Data Cleaning"
   ]
  },
  {
   "cell_type": "code",
   "execution_count": 22,
   "metadata": {},
   "outputs": [
    {
     "data": {
      "text/html": [
       "<div>\n",
       "<style scoped>\n",
       "    .dataframe tbody tr th:only-of-type {\n",
       "        vertical-align: middle;\n",
       "    }\n",
       "\n",
       "    .dataframe tbody tr th {\n",
       "        vertical-align: top;\n",
       "    }\n",
       "\n",
       "    .dataframe thead th {\n",
       "        text-align: right;\n",
       "    }\n",
       "</style>\n",
       "<table border=\"1\" class=\"dataframe\">\n",
       "  <thead>\n",
       "    <tr style=\"text-align: right;\">\n",
       "      <th></th>\n",
       "      <th>age</th>\n",
       "      <th>pos</th>\n",
       "      <th>tmRtg</th>\n",
       "      <th>G</th>\n",
       "      <th>Min</th>\n",
       "      <th>MP%</th>\n",
       "      <th>MPG</th>\n",
       "      <th>P/36</th>\n",
       "      <th>TS%</th>\n",
       "      <th>A/36</th>\n",
       "      <th>R/36</th>\n",
       "      <th>SB/36</th>\n",
       "      <th>TO/36</th>\n",
       "      <th>Raptor O</th>\n",
       "      <th>Raptor D</th>\n",
       "      <th>Raptor+/-</th>\n",
       "      <th>Raptor WAR</th>\n",
       "      <th>PIE%</th>\n",
       "      <th>AWS%</th>\n",
       "      <th>USG%</th>\n",
       "      <th>AST%</th>\n",
       "      <th>TOV%</th>\n",
       "      <th>ORB%</th>\n",
       "      <th>DRB%</th>\n",
       "      <th>TRB%</th>\n",
       "      <th>STL%</th>\n",
       "      <th>BLK%</th>\n",
       "      <th>ORtg</th>\n",
       "      <th>%Pos</th>\n",
       "      <th>DRtg</th>\n",
       "      <th>2P%</th>\n",
       "      <th>3P%</th>\n",
       "      <th>FT%</th>\n",
       "      <th>3PAr</th>\n",
       "      <th>FTAr</th>\n",
       "    </tr>\n",
       "  </thead>\n",
       "  <tbody>\n",
       "    <tr>\n",
       "      <td>1</td>\n",
       "      <td>27</td>\n",
       "      <td>PF</td>\n",
       "      <td>-5.8</td>\n",
       "      <td>82</td>\n",
       "      <td>2775</td>\n",
       "      <td>70.0</td>\n",
       "      <td>33.8</td>\n",
       "      <td>15.3</td>\n",
       "      <td>50.3</td>\n",
       "      <td>1.1</td>\n",
       "      <td>8.1</td>\n",
       "      <td>1.9</td>\n",
       "      <td>2.0</td>\n",
       "      <td>-0.7</td>\n",
       "      <td>-0.5</td>\n",
       "      <td>-1.2</td>\n",
       "      <td>2.3</td>\n",
       "      <td>8.2</td>\n",
       "      <td>9.4</td>\n",
       "      <td>19.4</td>\n",
       "      <td>4.6</td>\n",
       "      <td>11.4</td>\n",
       "      <td>10.5</td>\n",
       "      <td>12.1</td>\n",
       "      <td>11.3</td>\n",
       "      <td>1.5</td>\n",
       "      <td>1.3</td>\n",
       "      <td>104.5</td>\n",
       "      <td>19.3</td>\n",
       "      <td>108.5</td>\n",
       "      <td>46.5</td>\n",
       "      <td>10.0</td>\n",
       "      <td>67.1</td>\n",
       "      <td>1.1</td>\n",
       "      <td>35.9</td>\n",
       "    </tr>\n",
       "    <tr>\n",
       "      <td>2</td>\n",
       "      <td>29</td>\n",
       "      <td>SF</td>\n",
       "      <td>-5.8</td>\n",
       "      <td>79</td>\n",
       "      <td>2767</td>\n",
       "      <td>69.8</td>\n",
       "      <td>35.0</td>\n",
       "      <td>18.7</td>\n",
       "      <td>49.6</td>\n",
       "      <td>3.3</td>\n",
       "      <td>5.6</td>\n",
       "      <td>1.0</td>\n",
       "      <td>2.6</td>\n",
       "      <td>0.2</td>\n",
       "      <td>-1.7</td>\n",
       "      <td>-1.5</td>\n",
       "      <td>1.8</td>\n",
       "      <td>9.6</td>\n",
       "      <td>7.8</td>\n",
       "      <td>24.2</td>\n",
       "      <td>14.5</td>\n",
       "      <td>12.2</td>\n",
       "      <td>4.0</td>\n",
       "      <td>11.6</td>\n",
       "      <td>7.8</td>\n",
       "      <td>1.1</td>\n",
       "      <td>0.2</td>\n",
       "      <td>101.1</td>\n",
       "      <td>23.3</td>\n",
       "      <td>110.4</td>\n",
       "      <td>41.8</td>\n",
       "      <td>38.6</td>\n",
       "      <td>87.7</td>\n",
       "      <td>24.5</td>\n",
       "      <td>17.2</td>\n",
       "    </tr>\n",
       "    <tr>\n",
       "      <td>3</td>\n",
       "      <td>28</td>\n",
       "      <td>SG</td>\n",
       "      <td>-5.8</td>\n",
       "      <td>60</td>\n",
       "      <td>2084</td>\n",
       "      <td>52.5</td>\n",
       "      <td>34.7</td>\n",
       "      <td>21.8</td>\n",
       "      <td>48.8</td>\n",
       "      <td>4.1</td>\n",
       "      <td>4.9</td>\n",
       "      <td>0.9</td>\n",
       "      <td>3.2</td>\n",
       "      <td>0.2</td>\n",
       "      <td>-2.5</td>\n",
       "      <td>-2.3</td>\n",
       "      <td>0.5</td>\n",
       "      <td>10.0</td>\n",
       "      <td>6.7</td>\n",
       "      <td>28.8</td>\n",
       "      <td>19.4</td>\n",
       "      <td>12.4</td>\n",
       "      <td>3.3</td>\n",
       "      <td>10.2</td>\n",
       "      <td>6.8</td>\n",
       "      <td>1.0</td>\n",
       "      <td>0.2</td>\n",
       "      <td>99.2</td>\n",
       "      <td>27.7</td>\n",
       "      <td>111.0</td>\n",
       "      <td>44.1</td>\n",
       "      <td>31.1</td>\n",
       "      <td>78.5</td>\n",
       "      <td>16.8</td>\n",
       "      <td>24.3</td>\n",
       "    </tr>\n",
       "    <tr>\n",
       "      <td>4</td>\n",
       "      <td>31</td>\n",
       "      <td>PG</td>\n",
       "      <td>-5.8</td>\n",
       "      <td>80</td>\n",
       "      <td>1924</td>\n",
       "      <td>48.5</td>\n",
       "      <td>24.1</td>\n",
       "      <td>13.2</td>\n",
       "      <td>49.4</td>\n",
       "      <td>5.9</td>\n",
       "      <td>3.5</td>\n",
       "      <td>1.4</td>\n",
       "      <td>2.1</td>\n",
       "      <td>-0.1</td>\n",
       "      <td>-1.5</td>\n",
       "      <td>-1.6</td>\n",
       "      <td>1.1</td>\n",
       "      <td>8.5</td>\n",
       "      <td>7.1</td>\n",
       "      <td>17.4</td>\n",
       "      <td>24.6</td>\n",
       "      <td>13.6</td>\n",
       "      <td>1.7</td>\n",
       "      <td>8.1</td>\n",
       "      <td>4.9</td>\n",
       "      <td>1.6</td>\n",
       "      <td>0.4</td>\n",
       "      <td>104.4</td>\n",
       "      <td>17.9</td>\n",
       "      <td>110.3</td>\n",
       "      <td>47.2</td>\n",
       "      <td>20.5</td>\n",
       "      <td>81.7</td>\n",
       "      <td>6.4</td>\n",
       "      <td>17.1</td>\n",
       "    </tr>\n",
       "    <tr>\n",
       "      <td>5</td>\n",
       "      <td>22</td>\n",
       "      <td>PG</td>\n",
       "      <td>-5.8</td>\n",
       "      <td>81</td>\n",
       "      <td>1888</td>\n",
       "      <td>47.6</td>\n",
       "      <td>23.3</td>\n",
       "      <td>13.7</td>\n",
       "      <td>49.7</td>\n",
       "      <td>7.2</td>\n",
       "      <td>3.4</td>\n",
       "      <td>2.1</td>\n",
       "      <td>3.2</td>\n",
       "      <td>0.4</td>\n",
       "      <td>-0.7</td>\n",
       "      <td>-0.3</td>\n",
       "      <td>2.4</td>\n",
       "      <td>9.7</td>\n",
       "      <td>8.6</td>\n",
       "      <td>19.2</td>\n",
       "      <td>29.3</td>\n",
       "      <td>19.1</td>\n",
       "      <td>1.4</td>\n",
       "      <td>8.2</td>\n",
       "      <td>4.8</td>\n",
       "      <td>2.5</td>\n",
       "      <td>0.3</td>\n",
       "      <td>99.6</td>\n",
       "      <td>20.2</td>\n",
       "      <td>108.4</td>\n",
       "      <td>45.8</td>\n",
       "      <td>29.3</td>\n",
       "      <td>80.7</td>\n",
       "      <td>26.2</td>\n",
       "      <td>23.3</td>\n",
       "    </tr>\n",
       "  </tbody>\n",
       "</table>\n",
       "</div>"
      ],
      "text/plain": [
       "   age pos  tmRtg   G   Min   MP%   MPG  P/36   TS%  A/36  R/36  SB/36  TO/36  \\\n",
       "1   27  PF   -5.8  82  2775  70.0  33.8  15.3  50.3   1.1   8.1    1.9    2.0   \n",
       "2   29  SF   -5.8  79  2767  69.8  35.0  18.7  49.6   3.3   5.6    1.0    2.6   \n",
       "3   28  SG   -5.8  60  2084  52.5  34.7  21.8  48.8   4.1   4.9    0.9    3.2   \n",
       "4   31  PG   -5.8  80  1924  48.5  24.1  13.2  49.4   5.9   3.5    1.4    2.1   \n",
       "5   22  PG   -5.8  81  1888  47.6  23.3  13.7  49.7   7.2   3.4    2.1    3.2   \n",
       "\n",
       "   Raptor O  Raptor D  Raptor+/-  Raptor WAR  PIE%  AWS%  USG%  AST%  TOV%  \\\n",
       "1      -0.7      -0.5       -1.2         2.3   8.2   9.4  19.4   4.6  11.4   \n",
       "2       0.2      -1.7       -1.5         1.8   9.6   7.8  24.2  14.5  12.2   \n",
       "3       0.2      -2.5       -2.3         0.5  10.0   6.7  28.8  19.4  12.4   \n",
       "4      -0.1      -1.5       -1.6         1.1   8.5   7.1  17.4  24.6  13.6   \n",
       "5       0.4      -0.7       -0.3         2.4   9.7   8.6  19.2  29.3  19.1   \n",
       "\n",
       "   ORB%  DRB%  TRB%  STL%  BLK%   ORtg  %Pos   DRtg   2P%   3P%   FT%  3PAr  \\\n",
       "1  10.5  12.1  11.3   1.5   1.3  104.5  19.3  108.5  46.5  10.0  67.1   1.1   \n",
       "2   4.0  11.6   7.8   1.1   0.2  101.1  23.3  110.4  41.8  38.6  87.7  24.5   \n",
       "3   3.3  10.2   6.8   1.0   0.2   99.2  27.7  111.0  44.1  31.1  78.5  16.8   \n",
       "4   1.7   8.1   4.9   1.6   0.4  104.4  17.9  110.3  47.2  20.5  81.7   6.4   \n",
       "5   1.4   8.2   4.8   2.5   0.3   99.6  20.2  108.4  45.8  29.3  80.7  26.2   \n",
       "\n",
       "   FTAr  \n",
       "1  35.9  \n",
       "2  17.2  \n",
       "3  24.3  \n",
       "4  17.1  \n",
       "5  23.3  "
      ]
     },
     "execution_count": 22,
     "metadata": {},
     "output_type": "execute_result"
    }
   ],
   "source": [
    "old_df = dc.clean_old_df(old_data, None)\n",
    "old_df.head()"
   ]
  },
  {
   "cell_type": "code",
   "execution_count": 38,
   "metadata": {},
   "outputs": [
    {
     "data": {
      "text/html": [
       "<div>\n",
       "<style scoped>\n",
       "    .dataframe tbody tr th:only-of-type {\n",
       "        vertical-align: middle;\n",
       "    }\n",
       "\n",
       "    .dataframe tbody tr th {\n",
       "        vertical-align: top;\n",
       "    }\n",
       "\n",
       "    .dataframe thead th {\n",
       "        text-align: right;\n",
       "    }\n",
       "</style>\n",
       "<table border=\"1\" class=\"dataframe\">\n",
       "  <thead>\n",
       "    <tr style=\"text-align: right;\">\n",
       "      <th></th>\n",
       "      <th>age</th>\n",
       "      <th>pos</th>\n",
       "      <th>tmRtg</th>\n",
       "      <th>G</th>\n",
       "      <th>Min</th>\n",
       "      <th>MP%</th>\n",
       "      <th>MPG</th>\n",
       "      <th>P/36</th>\n",
       "      <th>TS%</th>\n",
       "      <th>A/36</th>\n",
       "      <th>R/36</th>\n",
       "      <th>SB/36</th>\n",
       "      <th>TO/36</th>\n",
       "      <th>Raptor O</th>\n",
       "      <th>Raptor D</th>\n",
       "      <th>Raptor+/-</th>\n",
       "      <th>Raptor WAR</th>\n",
       "      <th>PIE%</th>\n",
       "      <th>AWS%</th>\n",
       "      <th>USG%</th>\n",
       "      <th>AST%</th>\n",
       "      <th>TOV%</th>\n",
       "      <th>ORB%</th>\n",
       "      <th>DRB%</th>\n",
       "      <th>TRB%</th>\n",
       "      <th>STL%</th>\n",
       "      <th>BLK%</th>\n",
       "      <th>ORtg</th>\n",
       "      <th>%Pos</th>\n",
       "      <th>DRtg</th>\n",
       "      <th>2P%</th>\n",
       "      <th>3P%</th>\n",
       "      <th>FT%</th>\n",
       "      <th>3PAr</th>\n",
       "      <th>FTAr</th>\n",
       "    </tr>\n",
       "  </thead>\n",
       "  <tbody>\n",
       "    <tr>\n",
       "      <td>0</td>\n",
       "      <td>21</td>\n",
       "      <td>PG</td>\n",
       "      <td>-7.6</td>\n",
       "      <td>60</td>\n",
       "      <td>2120</td>\n",
       "      <td>65.1</td>\n",
       "      <td>35.3</td>\n",
       "      <td>29.3</td>\n",
       "      <td>59.5</td>\n",
       "      <td>9.2</td>\n",
       "      <td>4.2</td>\n",
       "      <td>1.2</td>\n",
       "      <td>4.8</td>\n",
       "      <td>7.1</td>\n",
       "      <td>-3.5</td>\n",
       "      <td>3.6</td>\n",
       "      <td>7.0</td>\n",
       "      <td>17.0</td>\n",
       "      <td>15.4</td>\n",
       "      <td>34.9</td>\n",
       "      <td>45.6</td>\n",
       "      <td>16.2</td>\n",
       "      <td>1.6</td>\n",
       "      <td>11.5</td>\n",
       "      <td>6.5</td>\n",
       "      <td>1.4</td>\n",
       "      <td>0.3</td>\n",
       "      <td>113.6</td>\n",
       "      <td>36.1</td>\n",
       "      <td>117.2</td>\n",
       "      <td>50.1</td>\n",
       "      <td>36.1</td>\n",
       "      <td>86.0</td>\n",
       "      <td>45.5</td>\n",
       "      <td>44.8</td>\n",
       "    </tr>\n",
       "    <tr>\n",
       "      <td>1</td>\n",
       "      <td>22</td>\n",
       "      <td>SF</td>\n",
       "      <td>-7.6</td>\n",
       "      <td>63</td>\n",
       "      <td>2018</td>\n",
       "      <td>62.0</td>\n",
       "      <td>32.0</td>\n",
       "      <td>13.5</td>\n",
       "      <td>52.1</td>\n",
       "      <td>1.9</td>\n",
       "      <td>5.0</td>\n",
       "      <td>1.1</td>\n",
       "      <td>1.8</td>\n",
       "      <td>-2.5</td>\n",
       "      <td>-1.3</td>\n",
       "      <td>-3.8</td>\n",
       "      <td>-1.1</td>\n",
       "      <td>5.9</td>\n",
       "      <td>4.7</td>\n",
       "      <td>17.5</td>\n",
       "      <td>8.0</td>\n",
       "      <td>12.1</td>\n",
       "      <td>2.3</td>\n",
       "      <td>13.1</td>\n",
       "      <td>7.6</td>\n",
       "      <td>1.0</td>\n",
       "      <td>0.7</td>\n",
       "      <td>99.5</td>\n",
       "      <td>16.9</td>\n",
       "      <td>117.3</td>\n",
       "      <td>45.4</td>\n",
       "      <td>35.5</td>\n",
       "      <td>76.4</td>\n",
       "      <td>44.5</td>\n",
       "      <td>21.1</td>\n",
       "    </tr>\n",
       "    <tr>\n",
       "      <td>2</td>\n",
       "      <td>21</td>\n",
       "      <td>SG</td>\n",
       "      <td>-7.6</td>\n",
       "      <td>56</td>\n",
       "      <td>1760</td>\n",
       "      <td>54.1</td>\n",
       "      <td>31.4</td>\n",
       "      <td>13.6</td>\n",
       "      <td>53.6</td>\n",
       "      <td>4.2</td>\n",
       "      <td>4.5</td>\n",
       "      <td>1.5</td>\n",
       "      <td>1.7</td>\n",
       "      <td>-0.4</td>\n",
       "      <td>-2.4</td>\n",
       "      <td>-2.8</td>\n",
       "      <td>-0.1</td>\n",
       "      <td>8.0</td>\n",
       "      <td>8.1</td>\n",
       "      <td>17.1</td>\n",
       "      <td>17.5</td>\n",
       "      <td>12.0</td>\n",
       "      <td>2.1</td>\n",
       "      <td>12.0</td>\n",
       "      <td>7.0</td>\n",
       "      <td>1.4</td>\n",
       "      <td>1.3</td>\n",
       "      <td>107.1</td>\n",
       "      <td>17.2</td>\n",
       "      <td>116.5</td>\n",
       "      <td>45.3</td>\n",
       "      <td>38.0</td>\n",
       "      <td>82.8</td>\n",
       "      <td>54.8</td>\n",
       "      <td>10.5</td>\n",
       "    </tr>\n",
       "    <tr>\n",
       "      <td>3</td>\n",
       "      <td>20</td>\n",
       "      <td>SF</td>\n",
       "      <td>-7.6</td>\n",
       "      <td>58</td>\n",
       "      <td>1551</td>\n",
       "      <td>47.6</td>\n",
       "      <td>26.7</td>\n",
       "      <td>13.7</td>\n",
       "      <td>50.0</td>\n",
       "      <td>2.0</td>\n",
       "      <td>4.9</td>\n",
       "      <td>2.0</td>\n",
       "      <td>2.2</td>\n",
       "      <td>-2.8</td>\n",
       "      <td>-0.1</td>\n",
       "      <td>-3.0</td>\n",
       "      <td>-0.2</td>\n",
       "      <td>5.9</td>\n",
       "      <td>5.0</td>\n",
       "      <td>18.9</td>\n",
       "      <td>8.0</td>\n",
       "      <td>13.6</td>\n",
       "      <td>2.4</td>\n",
       "      <td>12.7</td>\n",
       "      <td>7.5</td>\n",
       "      <td>1.9</td>\n",
       "      <td>1.5</td>\n",
       "      <td>94.7</td>\n",
       "      <td>18.3</td>\n",
       "      <td>115.0</td>\n",
       "      <td>42.8</td>\n",
       "      <td>33.2</td>\n",
       "      <td>80.2</td>\n",
       "      <td>45.1</td>\n",
       "      <td>22.7</td>\n",
       "    </tr>\n",
       "    <tr>\n",
       "      <td>4</td>\n",
       "      <td>22</td>\n",
       "      <td>PF</td>\n",
       "      <td>-7.6</td>\n",
       "      <td>41</td>\n",
       "      <td>1363</td>\n",
       "      <td>41.9</td>\n",
       "      <td>33.2</td>\n",
       "      <td>22.7</td>\n",
       "      <td>65.9</td>\n",
       "      <td>1.5</td>\n",
       "      <td>10.7</td>\n",
       "      <td>2.5</td>\n",
       "      <td>1.9</td>\n",
       "      <td>0.0</td>\n",
       "      <td>-0.3</td>\n",
       "      <td>-0.3</td>\n",
       "      <td>1.7</td>\n",
       "      <td>15.6</td>\n",
       "      <td>17.1</td>\n",
       "      <td>22.7</td>\n",
       "      <td>7.6</td>\n",
       "      <td>10.1</td>\n",
       "      <td>9.0</td>\n",
       "      <td>24.0</td>\n",
       "      <td>16.4</td>\n",
       "      <td>1.1</td>\n",
       "      <td>4.1</td>\n",
       "      <td>123.7</td>\n",
       "      <td>21.6</td>\n",
       "      <td>112.2</td>\n",
       "      <td>64.2</td>\n",
       "      <td>40.1</td>\n",
       "      <td>80.0</td>\n",
       "      <td>24.3</td>\n",
       "      <td>24.8</td>\n",
       "    </tr>\n",
       "  </tbody>\n",
       "</table>\n",
       "</div>"
      ],
      "text/plain": [
       "   age pos  tmRtg   G   Min   MP%   MPG  P/36   TS%  A/36  R/36  SB/36  TO/36  \\\n",
       "0   21  PG   -7.6  60  2120  65.1  35.3  29.3  59.5   9.2   4.2    1.2    4.8   \n",
       "1   22  SF   -7.6  63  2018  62.0  32.0  13.5  52.1   1.9   5.0    1.1    1.8   \n",
       "2   21  SG   -7.6  56  1760  54.1  31.4  13.6  53.6   4.2   4.5    1.5    1.7   \n",
       "3   20  SF   -7.6  58  1551  47.6  26.7  13.7  50.0   2.0   4.9    2.0    2.2   \n",
       "4   22  PF   -7.6  41  1363  41.9  33.2  22.7  65.9   1.5  10.7    2.5    1.9   \n",
       "\n",
       "   Raptor O  Raptor D  Raptor+/-  Raptor WAR  PIE%  AWS%  USG%  AST%  TOV%  \\\n",
       "0       7.1      -3.5        3.6         7.0  17.0  15.4  34.9  45.6  16.2   \n",
       "1      -2.5      -1.3       -3.8        -1.1   5.9   4.7  17.5   8.0  12.1   \n",
       "2      -0.4      -2.4       -2.8        -0.1   8.0   8.1  17.1  17.5  12.0   \n",
       "3      -2.8      -0.1       -3.0        -0.2   5.9   5.0  18.9   8.0  13.6   \n",
       "4       0.0      -0.3       -0.3         1.7  15.6  17.1  22.7   7.6  10.1   \n",
       "\n",
       "   ORB%  DRB%  TRB%  STL%  BLK%   ORtg  %Pos   DRtg   2P%   3P%   FT%  3PAr  \\\n",
       "0   1.6  11.5   6.5   1.4   0.3  113.6  36.1  117.2  50.1  36.1  86.0  45.5   \n",
       "1   2.3  13.1   7.6   1.0   0.7   99.5  16.9  117.3  45.4  35.5  76.4  44.5   \n",
       "2   2.1  12.0   7.0   1.4   1.3  107.1  17.2  116.5  45.3  38.0  82.8  54.8   \n",
       "3   2.4  12.7   7.5   1.9   1.5   94.7  18.3  115.0  42.8  33.2  80.2  45.1   \n",
       "4   9.0  24.0  16.4   1.1   4.1  123.7  21.6  112.2  64.2  40.1  80.0  24.3   \n",
       "\n",
       "   FTAr  \n",
       "0  44.8  \n",
       "1  21.1  \n",
       "2  10.5  \n",
       "3  22.7  \n",
       "4  24.8  "
      ]
     },
     "execution_count": 38,
     "metadata": {},
     "output_type": "execute_result"
    }
   ],
   "source": [
    "mod_df = dc.clean_new_df(mod_data, None)\n",
    "mod_df.head()"
   ]
  },
  {
   "cell_type": "markdown",
   "metadata": {},
   "source": [
    "## III. Model Creation\n",
    "\n",
    "    1. Positionality Exploration Across Eras\n",
    "        a. Build\n",
    "        b. Evaluate\n",
    "    2. Cluster \n",
    "        a. Scale\n",
    "        b. Dimensionality Reduction\n",
    "            i. PCA\n",
    "            ii. LDA\n",
    "        c. Feature Consolidation\n",
    "        d. Build\n",
    "        e. Evaluate\n",
    "    3. Label Identification and Understanding\n",
    "    4. Prediction Model\n",
    "        a. Prepare NCAA dataset with target labels\n",
    "        a. Build\n",
    "        b. Evaluate"
   ]
  },
  {
   "cell_type": "markdown",
   "metadata": {},
   "source": [
    "#### 1. Positionality Exploration Across Eras"
   ]
  },
  {
   "cell_type": "markdown",
   "metadata": {},
   "source": [
    "- ##### 1a. Build"
   ]
  },
  {
   "cell_type": "code",
   "execution_count": 23,
   "metadata": {},
   "outputs": [],
   "source": [
    "# 90's ERA\n",
    "# Define X and y\n",
    "X = old_df.drop(columns=['pos'], axis = 1)\n",
    "y = old_df['pos']"
   ]
  },
  {
   "cell_type": "code",
   "execution_count": 57,
   "metadata": {},
   "outputs": [],
   "source": [
    "model, X_test, y_test, y_hat_test, y_hat_proba = mf.lrm(X, y, 23)"
   ]
  },
  {
   "cell_type": "code",
   "execution_count": 39,
   "metadata": {},
   "outputs": [],
   "source": [
    "# MODERN ERA\n",
    "# Define X and y\n",
    "X2 = mod_df.drop(columns = ['pos'], axis = 1)\n",
    "y2 = mod_df['pos']"
   ]
  },
  {
   "cell_type": "code",
   "execution_count": 58,
   "metadata": {},
   "outputs": [],
   "source": [
    "model2, X2_test, y2_test, y2_hat_test, y2_hat_proba = mf.lrm(X2, y2, 23)"
   ]
  },
  {
   "cell_type": "markdown",
   "metadata": {},
   "source": [
    "- ##### 1b. Evaluate"
   ]
  },
  {
   "cell_type": "code",
   "execution_count": 73,
   "metadata": {},
   "outputs": [
    {
     "data": {
      "image/png": "[encoded data removed]",
      "text/plain": [
       "<Figure size 432x288 with 2 Axes>"
      ]
     },
     "metadata": {
      "needs_background": "light"
     },
     "output_type": "display_data"
    },
    {
     "name": "stdout",
     "output_type": "stream",
     "text": [
      " recall:  0.8113497298200217 \n",
      " precision:  0.8001618871813868\n"
     ]
    }
   ],
   "source": [
    "# 90's ERA\n",
    "cnf_matrix = confusion_matrix(y_test, y_hat_test)\n",
    "recall, precision = mf.show_cm(cnf_matrix, y)"
   ]
  },
  {
   "cell_type": "code",
   "execution_count": 70,
   "metadata": {},
   "outputs": [
    {
     "name": "stdout",
     "output_type": "stream",
     "text": [
      "              precision    recall  f1-score   support\n",
      "\n",
      "           C       0.82      0.87      0.85       450\n",
      "          PF       0.77      0.76      0.77       632\n",
      "          PG       0.88      0.89      0.88       662\n",
      "          SF       0.69      0.61      0.65       637\n",
      "          SG       0.65      0.71      0.68       622\n",
      "\n",
      "    accuracy                           0.76      3003\n",
      "   macro avg       0.76      0.77      0.77      3003\n",
      "weighted avg       0.76      0.76      0.76      3003\n",
      "\n"
     ]
    }
   ],
   "source": [
    "# 90's ERA Cross Validation\n",
    "predicted = cross_val_predict(model, X, y, cv=10)\n",
    "print (metrics.classification_report(y, predicted))"
   ]
  },
  {
   "cell_type": "code",
   "execution_count": 49,
   "metadata": {},
   "outputs": [
    {
     "data": {
      "image/png": "[encoded data removed]",
      "text/plain": [
       "<Figure size 432x288 with 2 Axes>"
      ]
     },
     "metadata": {
      "needs_background": "light"
     },
     "output_type": "display_data"
    },
    {
     "name": "stdout",
     "output_type": "stream",
     "text": [
      " recall:  0.720110121122606 \n",
      " precision:  0.7151709269040324\n"
     ]
    }
   ],
   "source": [
    "# MODERN ERA\n",
    "cnf_matrix2 = confusion_matrix(y2_test, y2_hat_test)\n",
    "recall2, precision2 = mf.show_cm(cnf_matrix2, y2)"
   ]
  },
  {
   "cell_type": "code",
   "execution_count": 71,
   "metadata": {},
   "outputs": [
    {
     "name": "stdout",
     "output_type": "stream",
     "text": [
      "              precision    recall  f1-score   support\n",
      "\n",
      "           C       0.76      0.86      0.81       858\n",
      "          PF       0.65      0.53      0.58       890\n",
      "          PG       0.82      0.89      0.86       861\n",
      "          SF       0.58      0.48      0.53       827\n",
      "          SG       0.65      0.71      0.67       972\n",
      "\n",
      "    accuracy                           0.70      4408\n",
      "   macro avg       0.69      0.70      0.69      4408\n",
      "weighted avg       0.69      0.70      0.69      4408\n",
      "\n"
     ]
    }
   ],
   "source": [
    "# MODERN ERA Cross Validation\n",
    "predicted2 = cross_val_predict(model2, X2, y2, cv=10)\n",
    "print (metrics.classification_report(y2, predicted2))"
   ]
  },
  {
   "cell_type": "markdown",
   "metadata": {},
   "source": [
    "The takeaway here is that positional labels have become more fluid in the modern era as shown by the decrease in scores by 6-7% on average. The PF position in particular showed a drop of nearly 20% in F1-score. The model shows that statistically there are more that can be comparable to shooting gaurds, small forwards, and centers. "
   ]
  },
  {
   "cell_type": "markdown",
   "metadata": {},
   "source": [
    "#### 2. Cluster Modeling"
   ]
  },
  {
   "cell_type": "code",
   "execution_count": 74,
   "metadata": {},
   "outputs": [],
   "source": [
    "from src import cluster_functions as cf"
   ]
  },
  {
   "cell_type": "code",
   "execution_count": 90,
   "metadata": {},
   "outputs": [],
   "source": [
    "ss = StandardScaler()\n",
    "X_scaled = ss.fit_transform(X2)"
   ]
  },
  {
   "cell_type": "markdown",
   "metadata": {},
   "source": [
    "- ##### Dimensionality Reduction"
   ]
  },
  {
   "cell_type": "code",
   "execution_count": 91,
   "metadata": {},
   "outputs": [
    {
     "name": "stdout",
     "output_type": "stream",
     "text": [
      "Cumulative Explained Variance: 0.4965935393930007\n"
     ]
    }
   ],
   "source": [
    "pca = PCA(n_components=2)\n",
    "pca.fit(X_scaled)\n",
    "\n",
    "X_pca = pca.transform(X_scaled)\n",
    "print(\"Cumulative Explained Variance:\", pca.explained_variance_ratio_.sum())"
   ]
  },
  {
   "cell_type": "code",
   "execution_count": 92,
   "metadata": {},
   "outputs": [],
   "source": [
    "LDA = LinearDiscriminantAnalysis(n_components=2, \n",
    "                                 shrinkage='auto', \n",
    "                                 solver='eigen')"
   ]
  },
  {
   "cell_type": "code",
   "execution_count": 95,
   "metadata": {},
   "outputs": [
    {
     "data": {
      "text/plain": [
       "0.7044010889292196"
      ]
     },
     "execution_count": 95,
     "metadata": {},
     "output_type": "execute_result"
    }
   ],
   "source": [
    "LDA_reduced_df = LDA.fit(X_scaled,y2).transform(X_scaled)\n",
    "LDA.score(X_scaled,y2)"
   ]
  },
  {
   "cell_type": "markdown",
   "metadata": {},
   "source": [
    "The LDA explaind variance at 70% is initially much higher than a 2 component PCA reduction. Lets see how well the clusters can differentiate."
   ]
  },
  {
   "cell_type": "code",
   "execution_count": 96,
   "metadata": {},
   "outputs": [
    {
     "name": "stdout",
     "output_type": "stream",
     "text": [
      "2 0.5006799491942199\n",
      "3 0.5118463338901772\n",
      "4 0.43165904430868296\n",
      "5 0.38570952405595477\n",
      "6 0.36671789329902227\n",
      "7 0.34716711035128217\n",
      "8 0.3242681556355149\n",
      "9 0.331994568767971\n",
      "10 0.33621307196235617\n",
      "11 0.33407270891246454\n",
      "12 0.32139548670056517\n",
      "13 0.32774394882115526\n",
      "14 0.3268978287724816\n",
      "15 0.3270515857799974\n",
      "16 0.32595573295798086\n",
      "17 0.3260928931226231\n",
      "18 0.32408227119293337\n",
      "19 0.32232772891342276\n"
     ]
    },
    {
     "data": {
      "image/png": "[encoded data removed]",
      "text/plain": [
       "<Figure size 432x288 with 1 Axes>"
      ]
     },
     "metadata": {
      "needs_background": "light"
     },
     "output_type": "display_data"
    },
    {
     "data": {
      "image/png": "[encoded data removed]",
      "text/plain": [
       "<Figure size 720x576 with 1 Axes>"
      ]
     },
     "metadata": {
      "needs_background": "light"
     },
     "output_type": "display_data"
    }
   ],
   "source": [
    "cf.find_best_cluster(LDA_reduced_df,2,20)"
   ]
  },
  {
   "cell_type": "markdown",
   "metadata": {},
   "source": [
    "There doesn't seem to be definitive elbow, and the best bump in silouette score visually comes at 9 components, although the increase is small. "
   ]
  },
  {
   "cell_type": "code",
   "execution_count": 100,
   "metadata": {},
   "outputs": [],
   "source": [
    "k_means = cf.kmeans(LDA_reduced_df, 9)"
   ]
  },
  {
   "cell_type": "code",
   "execution_count": 101,
   "metadata": {},
   "outputs": [
    {
     "name": "stdout",
     "output_type": "stream",
     "text": [
      "silhouette score: 0.331994568767971\n"
     ]
    }
   ],
   "source": [
    "# Assign labels\n",
    "# data['Cluster'] = k_means['labels']\n",
    "# mod_data['Cluster'] = cf.k_means['labels']\n",
    "\n",
    "# Print silhouette score\n",
    "print (\"silhouette score:\", k_means['silhouette_score'])"
   ]
  },
  {
   "cell_type": "markdown",
   "metadata": {},
   "source": [
    "Lets use cross validation to see if there is a definitive number of components in pca to use"
   ]
  },
  {
   "cell_type": "code",
   "execution_count": 99,
   "metadata": {},
   "outputs": [
    {
     "name": "stdout",
     "output_type": "stream",
     "text": [
      "Best parameter (CV score=0.922):\n",
      "{'logistic__C': 21.54434690031882, 'pca__n_components': 38}\n"
     ]
    },
    {
     "data": {
      "image/png": "[encoded data removed]",
      "text/plain": [
       "<Figure size 432x432 with 2 Axes>"
      ]
     },
     "metadata": {
      "needs_background": "light"
     },
     "output_type": "display_data"
    }
   ],
   "source": [
    "mf.dim_red(X_scaled, y2, 23)"
   ]
  },
  {
   "cell_type": "markdown",
   "metadata": {},
   "source": [
    "38 components does not reduce our dimensionality. Lets look into the features and see if we can eliminate redundant columns."
   ]
  },
  {
   "cell_type": "markdown",
   "metadata": {},
   "source": [
    "- ##### Feature Consolidation"
   ]
  },
  {
   "cell_type": "code",
   "execution_count": 103,
   "metadata": {},
   "outputs": [],
   "source": [
    "X_new = mod_df[['Raptor+/-', 'Raptor D','Raptor O','TS%','PIE%','ORtg','%Pos','3P%', '3PAr', 'FTAr', 'AST%', 'USG%', '2P%']]\n",
    "y_new = mod_df['pos']"
   ]
  },
  {
   "cell_type": "code",
   "execution_count": 104,
   "metadata": {},
   "outputs": [],
   "source": [
    "ss = StandardScaler()\n",
    "X_scaled = ss.fit_transform(X_new)"
   ]
  },
  {
   "cell_type": "code",
   "execution_count": 158,
   "metadata": {},
   "outputs": [
    {
     "name": "stdout",
     "output_type": "stream",
     "text": [
      "Cumulative Explained Variance: 0.7394563595569947\n"
     ]
    }
   ],
   "source": [
    "pca = PCA(n_components=3)\n",
    "pca.fit(X_scaled)\n",
    "\n",
    "X_pca = pca.transform(X_scaled)\n",
    "print(\"Cumulative Explained Variance:\", pca.explained_variance_ratio_.sum())"
   ]
  },
  {
   "cell_type": "code",
   "execution_count": 106,
   "metadata": {},
   "outputs": [
    {
     "data": {
      "text/plain": [
       "0.6320326678765881"
      ]
     },
     "execution_count": 106,
     "metadata": {},
     "output_type": "execute_result"
    }
   ],
   "source": [
    "LDA_reduced_df = LDA.fit(X_scaled,y_new).transform(X_scaled)\n",
    "LDA.score(X_scaled,y_new)"
   ]
  },
  {
   "cell_type": "code",
   "execution_count": 108,
   "metadata": {},
   "outputs": [
    {
     "name": "stdout",
     "output_type": "stream",
     "text": [
      "2 0.26712323766075197\n",
      "3 0.2914239434035136\n",
      "4 0.28249027697271883\n",
      "5 0.26821722502739703\n",
      "6 0.27750740005767505\n",
      "7 0.26162187529753594\n",
      "8 0.25347327454756063\n",
      "9 0.2496601629806081\n",
      "10 0.2475605199947332\n",
      "11 0.24770677843324393\n",
      "12 0.24947139590626294\n",
      "13 0.24671158929723302\n",
      "14 0.24203722306259232\n",
      "15 0.24484483802997314\n",
      "16 0.2435910436243844\n",
      "17 0.24199874069744925\n",
      "18 0.24165459979389992\n",
      "19 0.23771664577106774\n"
     ]
    },
    {
     "data": {
      "image/png": "[encoded data removed]",
      "text/plain": [
       "<Figure size 432x288 with 1 Axes>"
      ]
     },
     "metadata": {
      "needs_background": "light"
     },
     "output_type": "display_data"
    },
    {
     "data": {
      "image/png": "[encoded data removed]",
      "text/plain": [
       "<Figure size 720x576 with 1 Axes>"
      ]
     },
     "metadata": {
      "needs_background": "light"
     },
     "output_type": "display_data"
    }
   ],
   "source": [
    "cf.find_best_cluster(X_pca,2,20)"
   ]
  },
  {
   "cell_type": "markdown",
   "metadata": {},
   "source": [
    "While the elbow at 6 components is slight, there is a clear peak in silouette score. Lets build a Gaussian Mixture Model using 6 clusters. "
   ]
  },
  {
   "cell_type": "code",
   "execution_count": 119,
   "metadata": {},
   "outputs": [
    {
     "data": {
      "image/png": "[encoded data removed]",
      "text/plain": [
       "<Figure size 720x360 with 1 Axes>"
      ]
     },
     "metadata": {
      "needs_background": "light"
     },
     "output_type": "display_data"
    }
   ],
   "source": [
    "from sklearn.mixture import GaussianMixture\n",
    "from matplotlib.ticker import MaxNLocator\n",
    "fig = plt.figure(figsize = (10, 5))\n",
    "gmm = GaussianMixture(n_components=6).fit(X_pca)\n",
    "labels = gmm.predict(X_pca)\n",
    "mod_data['gmm_cluster'] = labels\n",
    "plt.scatter(X_pca[:, 0], X_pca[:, 1], c=labels, cmap='viridis', edgecolor='black')\n",
    "plot_title=\"GMM Clustering of NBA Players in 2008-2020\"\n",
    "plt.title(plot_title);"
   ]
  },
  {
   "cell_type": "markdown",
   "metadata": {},
   "source": [
    "The graph above shows two of the three principle components due to the 2 dimensional space we are viewing them. The three components comprise 74% of the total variation. The overlapping clusters illustrate that whatever sets those clusters apart isn’t a part of the two principal components used as the axes for the graph. In order to understand what sets the clusters apart we'll need to look into the players and feature importance within each cluster. "
   ]
  },
  {
   "cell_type": "code",
   "execution_count": 121,
   "metadata": {},
   "outputs": [
    {
     "name": "stdout",
     "output_type": "stream",
     "text": [
      "[4 0 5 ... 0 2 0] [[0.00000e+00 7.75000e-02 0.00000e+00 2.80000e-03 9.99197e+01 0.00000e+00]\n",
      " [6.08811e+01 6.60310e+00 4.80000e-03 1.29600e-01 5.58000e-02 3.23256e+01]\n",
      " [3.41265e+01 1.21962e+01 0.00000e+00 3.23000e-02 4.60000e-02 5.35989e+01]\n",
      " ...\n",
      " [7.34480e+01 1.86739e+01 5.67300e-01 4.88100e-01 4.61000e-01 6.36180e+00]\n",
      " [1.34089e+01 7.10000e-03 8.62491e+01 1.13700e-01 4.52000e-02 1.76000e-01]\n",
      " [9.56021e+01 1.96970e+00 1.05600e-01 5.65000e-02 3.20000e-02 2.23410e+00]]\n"
     ]
    }
   ],
   "source": [
    "#Find the probability of each row belonging to a cluster\n",
    "probs = np.round(gmm.predict_proba(X_pca)*100, 4)\n",
    "# mod_data['prob'] = probs\n",
    "print(labels,probs)"
   ]
  },
  {
   "cell_type": "code",
   "execution_count": 122,
   "metadata": {},
   "outputs": [
    {
     "data": {
      "text/html": [
       "<div>\n",
       "<style scoped>\n",
       "    .dataframe tbody tr th:only-of-type {\n",
       "        vertical-align: middle;\n",
       "    }\n",
       "\n",
       "    .dataframe tbody tr th {\n",
       "        vertical-align: top;\n",
       "    }\n",
       "\n",
       "    .dataframe thead th {\n",
       "        text-align: right;\n",
       "    }\n",
       "</style>\n",
       "<table border=\"1\" class=\"dataframe\">\n",
       "  <thead>\n",
       "    <tr style=\"text-align: right;\">\n",
       "      <th></th>\n",
       "      <th>c0</th>\n",
       "      <th>c1</th>\n",
       "      <th>c2</th>\n",
       "      <th>c3</th>\n",
       "      <th>c4</th>\n",
       "      <th>c5</th>\n",
       "    </tr>\n",
       "  </thead>\n",
       "  <tbody>\n",
       "    <tr>\n",
       "      <td>0</td>\n",
       "      <td>0.0000</td>\n",
       "      <td>0.0775</td>\n",
       "      <td>0.0000</td>\n",
       "      <td>0.0028</td>\n",
       "      <td>99.9197</td>\n",
       "      <td>0.0000</td>\n",
       "    </tr>\n",
       "    <tr>\n",
       "      <td>1</td>\n",
       "      <td>60.8811</td>\n",
       "      <td>6.6031</td>\n",
       "      <td>0.0048</td>\n",
       "      <td>0.1296</td>\n",
       "      <td>0.0558</td>\n",
       "      <td>32.3256</td>\n",
       "    </tr>\n",
       "    <tr>\n",
       "      <td>2</td>\n",
       "      <td>34.1265</td>\n",
       "      <td>12.1962</td>\n",
       "      <td>0.0000</td>\n",
       "      <td>0.0323</td>\n",
       "      <td>0.0460</td>\n",
       "      <td>53.5989</td>\n",
       "    </tr>\n",
       "    <tr>\n",
       "      <td>3</td>\n",
       "      <td>74.3223</td>\n",
       "      <td>7.2928</td>\n",
       "      <td>0.0292</td>\n",
       "      <td>0.1560</td>\n",
       "      <td>0.0819</td>\n",
       "      <td>18.1179</td>\n",
       "    </tr>\n",
       "    <tr>\n",
       "      <td>4</td>\n",
       "      <td>1.0540</td>\n",
       "      <td>11.1951</td>\n",
       "      <td>0.5975</td>\n",
       "      <td>45.5912</td>\n",
       "      <td>14.0604</td>\n",
       "      <td>27.5018</td>\n",
       "    </tr>\n",
       "  </tbody>\n",
       "</table>\n",
       "</div>"
      ],
      "text/plain": [
       "        c0       c1      c2       c3       c4       c5\n",
       "0   0.0000   0.0775  0.0000   0.0028  99.9197   0.0000\n",
       "1  60.8811   6.6031  0.0048   0.1296   0.0558  32.3256\n",
       "2  34.1265  12.1962  0.0000   0.0323   0.0460  53.5989\n",
       "3  74.3223   7.2928  0.0292   0.1560   0.0819  18.1179\n",
       "4   1.0540  11.1951  0.5975  45.5912  14.0604  27.5018"
      ]
     },
     "execution_count": 122,
     "metadata": {},
     "output_type": "execute_result"
    }
   ],
   "source": [
    "prob_df = pd.DataFrame(data=probs, columns=[\"c0\",\"c1\",\"c2\",\"c3\",\"c4\",\"c5\"])\n",
    "prob_df.head()"
   ]
  },
  {
   "cell_type": "code",
   "execution_count": 130,
   "metadata": {},
   "outputs": [
    {
     "data": {
      "text/html": [
       "<div>\n",
       "<style scoped>\n",
       "    .dataframe tbody tr th:only-of-type {\n",
       "        vertical-align: middle;\n",
       "    }\n",
       "\n",
       "    .dataframe tbody tr th {\n",
       "        vertical-align: top;\n",
       "    }\n",
       "\n",
       "    .dataframe thead th {\n",
       "        text-align: right;\n",
       "    }\n",
       "</style>\n",
       "<table border=\"1\" class=\"dataframe\">\n",
       "  <thead>\n",
       "    <tr style=\"text-align: right;\">\n",
       "      <th></th>\n",
       "      <th>player_id</th>\n",
       "      <th>name_common</th>\n",
       "      <th>year_id</th>\n",
       "      <th>age</th>\n",
       "      <th>pos</th>\n",
       "      <th>team_id</th>\n",
       "      <th>tmRtg</th>\n",
       "      <th>franch_id</th>\n",
       "      <th>G</th>\n",
       "      <th>Min</th>\n",
       "      <th>MP%</th>\n",
       "      <th>MPG</th>\n",
       "      <th>P/36</th>\n",
       "      <th>TS%</th>\n",
       "      <th>A/36</th>\n",
       "      <th>R/36</th>\n",
       "      <th>SB/36</th>\n",
       "      <th>TO/36</th>\n",
       "      <th>Raptor O</th>\n",
       "      <th>Raptor D</th>\n",
       "      <th>Raptor+/-</th>\n",
       "      <th>Raptor WAR</th>\n",
       "      <th>PIE%</th>\n",
       "      <th>AWS%</th>\n",
       "      <th>USG%</th>\n",
       "      <th>AST%</th>\n",
       "      <th>TOV%</th>\n",
       "      <th>ORB%</th>\n",
       "      <th>DRB%</th>\n",
       "      <th>TRB%</th>\n",
       "      <th>STL%</th>\n",
       "      <th>BLK%</th>\n",
       "      <th>ORtg</th>\n",
       "      <th>%Pos</th>\n",
       "      <th>DRtg</th>\n",
       "      <th>2P%</th>\n",
       "      <th>3P%</th>\n",
       "      <th>FT%</th>\n",
       "      <th>3PAr</th>\n",
       "      <th>FTAr</th>\n",
       "      <th>gmm_cluster</th>\n",
       "      <th>c0</th>\n",
       "      <th>c1</th>\n",
       "      <th>c2</th>\n",
       "      <th>c3</th>\n",
       "      <th>c4</th>\n",
       "      <th>c5</th>\n",
       "    </tr>\n",
       "  </thead>\n",
       "  <tbody>\n",
       "    <tr>\n",
       "      <td>0</td>\n",
       "      <td>youngtr01</td>\n",
       "      <td>Trae Young</td>\n",
       "      <td>2020</td>\n",
       "      <td>21</td>\n",
       "      <td>PG</td>\n",
       "      <td>ATL</td>\n",
       "      <td>-7.6</td>\n",
       "      <td>ATL</td>\n",
       "      <td>60</td>\n",
       "      <td>2120</td>\n",
       "      <td>65.1</td>\n",
       "      <td>35.3</td>\n",
       "      <td>29.3</td>\n",
       "      <td>59.5</td>\n",
       "      <td>9.2</td>\n",
       "      <td>4.2</td>\n",
       "      <td>1.2</td>\n",
       "      <td>4.8</td>\n",
       "      <td>7.1</td>\n",
       "      <td>-3.5</td>\n",
       "      <td>3.6</td>\n",
       "      <td>7.0</td>\n",
       "      <td>17.0</td>\n",
       "      <td>15.4</td>\n",
       "      <td>34.9</td>\n",
       "      <td>45.6</td>\n",
       "      <td>16.2</td>\n",
       "      <td>1.6</td>\n",
       "      <td>11.5</td>\n",
       "      <td>6.5</td>\n",
       "      <td>1.4</td>\n",
       "      <td>0.3</td>\n",
       "      <td>113.6</td>\n",
       "      <td>36.1</td>\n",
       "      <td>117.2</td>\n",
       "      <td>50.1</td>\n",
       "      <td>36.1</td>\n",
       "      <td>86.0</td>\n",
       "      <td>45.5</td>\n",
       "      <td>44.8</td>\n",
       "      <td>4</td>\n",
       "      <td>0.0000</td>\n",
       "      <td>0.0775</td>\n",
       "      <td>0.0000</td>\n",
       "      <td>0.0028</td>\n",
       "      <td>99.9197</td>\n",
       "      <td>0.0000</td>\n",
       "    </tr>\n",
       "    <tr>\n",
       "      <td>1</td>\n",
       "      <td>huntede01</td>\n",
       "      <td>De'Andre Hunter</td>\n",
       "      <td>2020</td>\n",
       "      <td>22</td>\n",
       "      <td>SF</td>\n",
       "      <td>ATL</td>\n",
       "      <td>-7.6</td>\n",
       "      <td>ATL</td>\n",
       "      <td>63</td>\n",
       "      <td>2018</td>\n",
       "      <td>62.0</td>\n",
       "      <td>32.0</td>\n",
       "      <td>13.5</td>\n",
       "      <td>52.1</td>\n",
       "      <td>1.9</td>\n",
       "      <td>5.0</td>\n",
       "      <td>1.1</td>\n",
       "      <td>1.8</td>\n",
       "      <td>-2.5</td>\n",
       "      <td>-1.3</td>\n",
       "      <td>-3.8</td>\n",
       "      <td>-1.1</td>\n",
       "      <td>5.9</td>\n",
       "      <td>4.7</td>\n",
       "      <td>17.5</td>\n",
       "      <td>8.0</td>\n",
       "      <td>12.1</td>\n",
       "      <td>2.3</td>\n",
       "      <td>13.1</td>\n",
       "      <td>7.6</td>\n",
       "      <td>1.0</td>\n",
       "      <td>0.7</td>\n",
       "      <td>99.5</td>\n",
       "      <td>16.9</td>\n",
       "      <td>117.3</td>\n",
       "      <td>45.4</td>\n",
       "      <td>35.5</td>\n",
       "      <td>76.4</td>\n",
       "      <td>44.5</td>\n",
       "      <td>21.1</td>\n",
       "      <td>0</td>\n",
       "      <td>60.8811</td>\n",
       "      <td>6.6031</td>\n",
       "      <td>0.0048</td>\n",
       "      <td>0.1296</td>\n",
       "      <td>0.0558</td>\n",
       "      <td>32.3256</td>\n",
       "    </tr>\n",
       "    <tr>\n",
       "      <td>2</td>\n",
       "      <td>huertke01</td>\n",
       "      <td>Kevin Huerter</td>\n",
       "      <td>2020</td>\n",
       "      <td>21</td>\n",
       "      <td>SG</td>\n",
       "      <td>ATL</td>\n",
       "      <td>-7.6</td>\n",
       "      <td>ATL</td>\n",
       "      <td>56</td>\n",
       "      <td>1760</td>\n",
       "      <td>54.1</td>\n",
       "      <td>31.4</td>\n",
       "      <td>13.6</td>\n",
       "      <td>53.6</td>\n",
       "      <td>4.2</td>\n",
       "      <td>4.5</td>\n",
       "      <td>1.5</td>\n",
       "      <td>1.7</td>\n",
       "      <td>-0.4</td>\n",
       "      <td>-2.4</td>\n",
       "      <td>-2.8</td>\n",
       "      <td>-0.1</td>\n",
       "      <td>8.0</td>\n",
       "      <td>8.1</td>\n",
       "      <td>17.1</td>\n",
       "      <td>17.5</td>\n",
       "      <td>12.0</td>\n",
       "      <td>2.1</td>\n",
       "      <td>12.0</td>\n",
       "      <td>7.0</td>\n",
       "      <td>1.4</td>\n",
       "      <td>1.3</td>\n",
       "      <td>107.1</td>\n",
       "      <td>17.2</td>\n",
       "      <td>116.5</td>\n",
       "      <td>45.3</td>\n",
       "      <td>38.0</td>\n",
       "      <td>82.8</td>\n",
       "      <td>54.8</td>\n",
       "      <td>10.5</td>\n",
       "      <td>5</td>\n",
       "      <td>34.1265</td>\n",
       "      <td>12.1962</td>\n",
       "      <td>0.0000</td>\n",
       "      <td>0.0323</td>\n",
       "      <td>0.0460</td>\n",
       "      <td>53.5989</td>\n",
       "    </tr>\n",
       "    <tr>\n",
       "      <td>3</td>\n",
       "      <td>reddica01</td>\n",
       "      <td>Cam Reddish</td>\n",
       "      <td>2020</td>\n",
       "      <td>20</td>\n",
       "      <td>SF</td>\n",
       "      <td>ATL</td>\n",
       "      <td>-7.6</td>\n",
       "      <td>ATL</td>\n",
       "      <td>58</td>\n",
       "      <td>1551</td>\n",
       "      <td>47.6</td>\n",
       "      <td>26.7</td>\n",
       "      <td>13.7</td>\n",
       "      <td>50.0</td>\n",
       "      <td>2.0</td>\n",
       "      <td>4.9</td>\n",
       "      <td>2.0</td>\n",
       "      <td>2.2</td>\n",
       "      <td>-2.8</td>\n",
       "      <td>-0.1</td>\n",
       "      <td>-3.0</td>\n",
       "      <td>-0.2</td>\n",
       "      <td>5.9</td>\n",
       "      <td>5.0</td>\n",
       "      <td>18.9</td>\n",
       "      <td>8.0</td>\n",
       "      <td>13.6</td>\n",
       "      <td>2.4</td>\n",
       "      <td>12.7</td>\n",
       "      <td>7.5</td>\n",
       "      <td>1.9</td>\n",
       "      <td>1.5</td>\n",
       "      <td>94.7</td>\n",
       "      <td>18.3</td>\n",
       "      <td>115.0</td>\n",
       "      <td>42.8</td>\n",
       "      <td>33.2</td>\n",
       "      <td>80.2</td>\n",
       "      <td>45.1</td>\n",
       "      <td>22.7</td>\n",
       "      <td>0</td>\n",
       "      <td>74.3223</td>\n",
       "      <td>7.2928</td>\n",
       "      <td>0.0292</td>\n",
       "      <td>0.1560</td>\n",
       "      <td>0.0819</td>\n",
       "      <td>18.1179</td>\n",
       "    </tr>\n",
       "    <tr>\n",
       "      <td>4</td>\n",
       "      <td>collijo01</td>\n",
       "      <td>John Collins</td>\n",
       "      <td>2020</td>\n",
       "      <td>22</td>\n",
       "      <td>PF</td>\n",
       "      <td>ATL</td>\n",
       "      <td>-7.6</td>\n",
       "      <td>ATL</td>\n",
       "      <td>41</td>\n",
       "      <td>1363</td>\n",
       "      <td>41.9</td>\n",
       "      <td>33.2</td>\n",
       "      <td>22.7</td>\n",
       "      <td>65.9</td>\n",
       "      <td>1.5</td>\n",
       "      <td>10.7</td>\n",
       "      <td>2.5</td>\n",
       "      <td>1.9</td>\n",
       "      <td>0.0</td>\n",
       "      <td>-0.3</td>\n",
       "      <td>-0.3</td>\n",
       "      <td>1.7</td>\n",
       "      <td>15.6</td>\n",
       "      <td>17.1</td>\n",
       "      <td>22.7</td>\n",
       "      <td>7.6</td>\n",
       "      <td>10.1</td>\n",
       "      <td>9.0</td>\n",
       "      <td>24.0</td>\n",
       "      <td>16.4</td>\n",
       "      <td>1.1</td>\n",
       "      <td>4.1</td>\n",
       "      <td>123.7</td>\n",
       "      <td>21.6</td>\n",
       "      <td>112.2</td>\n",
       "      <td>64.2</td>\n",
       "      <td>40.1</td>\n",
       "      <td>80.0</td>\n",
       "      <td>24.3</td>\n",
       "      <td>24.8</td>\n",
       "      <td>3</td>\n",
       "      <td>1.0540</td>\n",
       "      <td>11.1951</td>\n",
       "      <td>0.5975</td>\n",
       "      <td>45.5912</td>\n",
       "      <td>14.0604</td>\n",
       "      <td>27.5018</td>\n",
       "    </tr>\n",
       "  </tbody>\n",
       "</table>\n",
       "</div>"
      ],
      "text/plain": [
       "   player_id      name_common  year_id  age pos team_id  tmRtg franch_id   G  \\\n",
       "0  youngtr01       Trae Young     2020   21  PG     ATL   -7.6       ATL  60   \n",
       "1  huntede01  De'Andre Hunter     2020   22  SF     ATL   -7.6       ATL  63   \n",
       "2  huertke01    Kevin Huerter     2020   21  SG     ATL   -7.6       ATL  56   \n",
       "3  reddica01      Cam Reddish     2020   20  SF     ATL   -7.6       ATL  58   \n",
       "4  collijo01     John Collins     2020   22  PF     ATL   -7.6       ATL  41   \n",
       "\n",
       "    Min   MP%   MPG  P/36   TS%  A/36  R/36  SB/36  TO/36  Raptor O  Raptor D  \\\n",
       "0  2120  65.1  35.3  29.3  59.5   9.2   4.2    1.2    4.8       7.1      -3.5   \n",
       "1  2018  62.0  32.0  13.5  52.1   1.9   5.0    1.1    1.8      -2.5      -1.3   \n",
       "2  1760  54.1  31.4  13.6  53.6   4.2   4.5    1.5    1.7      -0.4      -2.4   \n",
       "3  1551  47.6  26.7  13.7  50.0   2.0   4.9    2.0    2.2      -2.8      -0.1   \n",
       "4  1363  41.9  33.2  22.7  65.9   1.5  10.7    2.5    1.9       0.0      -0.3   \n",
       "\n",
       "   Raptor+/-  Raptor WAR  PIE%  AWS%  USG%  AST%  TOV%  ORB%  DRB%  TRB%  \\\n",
       "0        3.6         7.0  17.0  15.4  34.9  45.6  16.2   1.6  11.5   6.5   \n",
       "1       -3.8        -1.1   5.9   4.7  17.5   8.0  12.1   2.3  13.1   7.6   \n",
       "2       -2.8        -0.1   8.0   8.1  17.1  17.5  12.0   2.1  12.0   7.0   \n",
       "3       -3.0        -0.2   5.9   5.0  18.9   8.0  13.6   2.4  12.7   7.5   \n",
       "4       -0.3         1.7  15.6  17.1  22.7   7.6  10.1   9.0  24.0  16.4   \n",
       "\n",
       "   STL%  BLK%   ORtg  %Pos   DRtg   2P%   3P%   FT%  3PAr  FTAr  gmm_cluster  \\\n",
       "0   1.4   0.3  113.6  36.1  117.2  50.1  36.1  86.0  45.5  44.8            4   \n",
       "1   1.0   0.7   99.5  16.9  117.3  45.4  35.5  76.4  44.5  21.1            0   \n",
       "2   1.4   1.3  107.1  17.2  116.5  45.3  38.0  82.8  54.8  10.5            5   \n",
       "3   1.9   1.5   94.7  18.3  115.0  42.8  33.2  80.2  45.1  22.7            0   \n",
       "4   1.1   4.1  123.7  21.6  112.2  64.2  40.1  80.0  24.3  24.8            3   \n",
       "\n",
       "        c0       c1      c2       c3       c4       c5  \n",
       "0   0.0000   0.0775  0.0000   0.0028  99.9197   0.0000  \n",
       "1  60.8811   6.6031  0.0048   0.1296   0.0558  32.3256  \n",
       "2  34.1265  12.1962  0.0000   0.0323   0.0460  53.5989  \n",
       "3  74.3223   7.2928  0.0292   0.1560   0.0819  18.1179  \n",
       "4   1.0540  11.1951  0.5975  45.5912  14.0604  27.5018  "
      ]
     },
     "execution_count": 130,
     "metadata": {},
     "output_type": "execute_result"
    }
   ],
   "source": [
    "gmm_df=pd.concat([mod_data, prob_df], axis=1)\n",
    "gmm_df.head()"
   ]
  },
  {
   "cell_type": "code",
   "execution_count": null,
   "metadata": {},
   "outputs": [],
   "source": [
    "# Save Table to AI_SCOUT.db\n",
    "gmm_df.to_sql('CLUSTERS_', conn, if_exists='replace', index=False)"
   ]
  },
  {
   "cell_type": "markdown",
   "metadata": {},
   "source": [
    "##### 3. Label Identification and Understanding"
   ]
  },
  {
   "cell_type": "markdown",
   "metadata": {},
   "source": [
    "*C0*:\n",
    "Two-way long distance shooters, generally not the first scoring option, but accurate from deep.\n",
    "- Ray Allen\n",
    "- Danny Green\n",
    "- JJ Redick\n",
    "- Kyle Korver"
   ]
  },
  {
   "cell_type": "code",
   "execution_count": 132,
   "metadata": {},
   "outputs": [],
   "source": [
    "C0_data = pd.read_sql(\n",
    "    \"\"\"\n",
    "    SELECT * FROM CLUSTERS_4\n",
    "    WHERE gmm_cluster=0\n",
    "    ORDER BY \"c0\" DESC\n",
    "    \"\"\", conn)"
   ]
  },
  {
   "cell_type": "code",
   "execution_count": 150,
   "metadata": {},
   "outputs": [
    {
     "name": "stdout",
     "output_type": "stream",
     "text": [
      "      Feature  Importance  Cluster Average  League Average\n",
      "0        PIE%    0.452534         8.200863        9.413770\n",
      "1    Raptor O    0.416377        -0.217647       -0.437636\n",
      "2         TS%    0.350064        55.521412       53.956942\n",
      "3        ORtg    0.343079       110.231137      107.406624\n",
      "4        %Pos    0.330918        15.786118       19.028335\n",
      "5   Raptor+/-    0.315331        -0.233725       -0.499660\n",
      "6        USG%    0.314517        16.087765       19.035345\n",
      "7         3P%    0.156274        37.476471       28.084959\n",
      "8        AST%    0.141299        10.448314       13.661025\n",
      "9         2P%    0.128481        49.714353       48.971892\n",
      "10       FTAr    0.089716        20.618667       27.541833\n",
      "11   Raptor D    0.023133        -0.016078       -0.062228\n",
      "12       3PAr   -0.065236        44.495373       27.469964\n"
     ]
    },
    {
     "data": {
      "image/png": "[encoded data removed]",
      "text/plain": [
       "<Figure size 720x360 with 1 Axes>"
      ]
     },
     "metadata": {
      "needs_background": "light"
     },
     "output_type": "display_data"
    },
    {
     "data": {
      "image/png": "[encoded data removed]",
      "text/plain": [
       "<Figure size 720x432 with 1 Axes>"
      ]
     },
     "metadata": {
      "needs_background": "light"
     },
     "output_type": "display_data"
    }
   ],
   "source": [
    "fi0 = cf.feature_importance(C0_data, mod_df, 3).reset_index().drop('index', axis=1)\n",
    "print(fi0)\n",
    "fig = plt.figure(figsize = (10, 5)) \n",
    "  \n",
    "# creating the bar plot \n",
    "plt.bar(C0_data['pos'].unique(), C0_data['pos'].value_counts(), color ='#fc9432') \n",
    "plt.xlabel(\"Cluster\") \n",
    "plt.ylabel(\"No. of players\") \n",
    "plt.title(\"Positions Assigned to Cluster 0\") \n",
    "plt.show() \n",
    "\n",
    "cf.bar_features(fi0, 'Cluster 0', '#fc9432')\n"
   ]
  },
  {
   "cell_type": "markdown",
   "metadata": {},
   "source": [
    "----------------------"
   ]
  },
  {
   "cell_type": "markdown",
   "metadata": {},
   "source": [
    "*C1*:\n",
    "Perimeter role player, 3pt spot up shooters, defensive liability"
   ]
  },
  {
   "cell_type": "code",
   "execution_count": 149,
   "metadata": {},
   "outputs": [
    {
     "name": "stdout",
     "output_type": "stream",
     "text": [
      "      Feature  Importance  Cluster Average  League Average\n",
      "0        3PAr    0.084165        35.498839       27.469964\n",
      "1    Raptor D    0.056912        -1.043541       -0.062228\n",
      "2        AST%   -0.080309        13.303193       13.661025\n",
      "3        FTAr   -0.110280        19.551524       27.541833\n",
      "4         3P%   -0.163236        32.061538       28.084959\n",
      "5   Raptor+/-   -0.191558        -3.520610       -0.499660\n",
      "6         2P%   -0.242032        42.722642       48.971892\n",
      "7        %Pos   -0.274937        17.900145       19.028335\n",
      "8        USG%   -0.278179        18.017417       19.035345\n",
      "9    Raptor O   -0.375017        -2.476923       -0.437636\n",
      "10       ORtg   -0.405196        96.152830      107.406624\n",
      "11        TS%   -0.428133        47.824093       53.956942\n",
      "12       PIE%   -0.456128         6.211756        9.413770\n"
     ]
    },
    {
     "data": {
      "image/png": "[encoded data removed]",
      "text/plain": [
       "<Figure size 720x360 with 1 Axes>"
      ]
     },
     "metadata": {
      "needs_background": "light"
     },
     "output_type": "display_data"
    },
    {
     "data": {
      "image/png": "[encoded data removed]",
      "text/plain": [
       "<Figure size 720x432 with 1 Axes>"
      ]
     },
     "metadata": {
      "needs_background": "light"
     },
     "output_type": "display_data"
    }
   ],
   "source": [
    "C1_data = pd.read_sql(\n",
    "    \"\"\"\n",
    "    SELECT * FROM CLUSTERS_4\n",
    "    WHERE gmm_cluster=1\n",
    "    \"\"\", conn)\n",
    "fi1 = cf.feature_importance(C1_data, mod_df, 3).reset_index().drop('index', axis=1)\n",
    "print(fi1)\n",
    "fig = plt.figure(figsize = (10, 5)) \n",
    "  \n",
    "# creating the bar plot \n",
    "\n",
    "plt.bar(C1_data['pos'].unique(), C1_data['pos'].value_counts(), color ='#e44039') \n",
    "  \n",
    "plt.xlabel(\"Cluster\") \n",
    "plt.ylabel(\"No. of players\") \n",
    "plt.title(\"Positions Assigned to Cluster 1\") \n",
    "plt.show() \n",
    "cf.bar_features(fi1, 'Cluster 1', '#e44039')"
   ]
  },
  {
   "cell_type": "markdown",
   "metadata": {},
   "source": [
    "------------"
   ]
  },
  {
   "cell_type": "markdown",
   "metadata": {},
   "source": [
    "*C2*:\n",
    "Close to the rim, defensive minded bigs. No outside shot, but can get to the free throw line. C5 Backup.\n",
    "- Kendrick Perkins\n",
    "- Ben Wallace"
   ]
  },
  {
   "cell_type": "code",
   "execution_count": 152,
   "metadata": {},
   "outputs": [
    {
     "name": "stdout",
     "output_type": "stream",
     "text": [
      "      Feature  Importance  Cluster Average  League Average\n",
      "0        3PAr    0.080562         2.137113       27.469964\n",
      "1        FTAr    0.013932        34.812371       27.541833\n",
      "2         3P%   -0.007628         5.390427       28.084959\n",
      "3    Raptor D   -0.058787         0.143741       -0.062228\n",
      "4        AST%   -0.144464         7.462297       13.661025\n",
      "5        USG%   -0.239516        17.175110       19.035345\n",
      "6        %Pos   -0.248719        17.539175       19.028335\n",
      "7   Raptor+/-   -0.310074        -2.430339       -0.499660\n",
      "8         2P%   -0.331678        49.002209       48.971892\n",
      "9         TS%   -0.386404        51.866863       53.956942\n",
      "10       ORtg   -0.387256       104.059499      107.406624\n",
      "11   Raptor O   -0.403607        -2.575405       -0.437636\n",
      "12       PIE%   -0.425879         8.359941        9.413770\n"
     ]
    },
    {
     "data": {
      "image/png": "[encoded data removed]",
      "text/plain": [
       "<Figure size 720x360 with 1 Axes>"
      ]
     },
     "metadata": {
      "needs_background": "light"
     },
     "output_type": "display_data"
    },
    {
     "data": {
      "image/png": "[encoded data removed]",
      "text/plain": [
       "<Figure size 720x432 with 1 Axes>"
      ]
     },
     "metadata": {
      "needs_background": "light"
     },
     "output_type": "display_data"
    }
   ],
   "source": [
    "C2_data = pd.read_sql(\n",
    "    \"\"\"\n",
    "    SELECT * FROM CLUSTERS_4\n",
    "    WHERE gmm_cluster=2\n",
    "    \"\"\", conn)\n",
    "fi2 = cf.feature_importance(C2_data, mod_df, 3).reset_index().drop('index', axis=1)\n",
    "print(fi2)\n",
    "fig = plt.figure(figsize = (10, 5)) \n",
    "  \n",
    "# creating the bar plot \n",
    "\n",
    "plt.bar(C2_data['pos'].unique(), C2_data['pos'].value_counts(), color ='#238bc1') \n",
    "  \n",
    "plt.xlabel(\"Cluster\") \n",
    "plt.ylabel(\"No. of players\") \n",
    "plt.title(\"Positions Assigned to Cluster 2\") \n",
    "plt.show() \n",
    "cf.bar_features(fi2, 'Cluster 2', '#238bc1')"
   ]
  },
  {
   "cell_type": "markdown",
   "metadata": {},
   "source": [
    "---------------"
   ]
  },
  {
   "cell_type": "markdown",
   "metadata": {},
   "source": [
    "*C3*:\n",
    "Versatile sharp-shooters, generally a higher % of shots come from long-distance. C4 potential but can be lacking on defense. Can create offense for themselves and teammates. Poor man's C4. \n",
    "- Kyle Lowry\n",
    "- Jamal Crawford\n",
    "- Deron Williams\n",
    "- Tony Parker"
   ]
  },
  {
   "cell_type": "code",
   "execution_count": 154,
   "metadata": {},
   "outputs": [
    {
     "name": "stdout",
     "output_type": "stream",
     "text": [
      "      Feature  Importance  Cluster Average  League Average\n",
      "0        AST%    0.049512        20.644020       13.661025\n",
      "1        %Pos   -0.008942        22.944020       19.028335\n",
      "2        USG%   -0.028385        23.023719       19.035345\n",
      "3        3PAr   -0.070907        29.981508       27.469964\n",
      "4    Raptor D   -0.110149        -0.481809       -0.062228\n",
      "5        FTAr   -0.141207        26.135678       27.541833\n",
      "6         3P%   -0.216407        35.180201       28.084959\n",
      "7         2P%   -0.278449        47.297789       48.971892\n",
      "8        PIE%   -0.341994        10.896281        9.413770\n",
      "9   Raptor+/-   -0.367393         0.305025       -0.499660\n",
      "10   Raptor O   -0.402516         0.786533       -0.437636\n",
      "11        TS%   -0.447984        53.511457       53.956942\n",
      "12       ORtg   -0.469629       106.674673      107.406624\n"
     ]
    },
    {
     "data": {
      "image/png": "[encoded data removed]",
      "text/plain": [
       "<Figure size 720x360 with 1 Axes>"
      ]
     },
     "metadata": {
      "needs_background": "light"
     },
     "output_type": "display_data"
    },
    {
     "data": {
      "image/png": "[encoded data removed]",
      "text/plain": [
       "<Figure size 720x432 with 1 Axes>"
      ]
     },
     "metadata": {
      "needs_background": "light"
     },
     "output_type": "display_data"
    }
   ],
   "source": [
    "C3_data = pd.read_sql(\n",
    "    \"\"\"\n",
    "    SELECT * FROM CLUSTERS_4\n",
    "    WHERE gmm_cluster=3\n",
    "    \"\"\", conn)\n",
    "fi3 = cf.feature_importance(C3_data, mod_df,3).reset_index().drop('index', axis=1)\n",
    "print(fi3)\n",
    "fig = plt.figure(figsize = (10, 5)) \n",
    "  \n",
    "# creating the bar plot \n",
    "\n",
    "plt.bar(C3_data['pos'].unique(), C3_data['pos'].value_counts(), color ='#23ac48') \n",
    "  \n",
    "plt.xlabel(\"Cluster\") \n",
    "plt.ylabel(\"No. of players\") \n",
    "plt.title(\"Positions Assigned to Cluster 3\") \n",
    "plt.show() \n",
    "\n",
    "cf.bar_features(fi3, 'Cluster 3', '#23ac48')"
   ]
  },
  {
   "cell_type": "markdown",
   "metadata": {},
   "source": [
    "---------------"
   ]
  },
  {
   "cell_type": "markdown",
   "metadata": {},
   "source": [
    "*C4*:\n",
    "No weakness, 2-way players, create offense for themselves and teammates. 1st option, max contract players. \n",
    "Build your team around superstars\n",
    "- Steph Curry\n",
    "- Lebron\n",
    "- Nikola Jokic\n",
    "- Kevin Durant"
   ]
  },
  {
   "cell_type": "code",
   "execution_count": 155,
   "metadata": {},
   "outputs": [
    {
     "name": "stdout",
     "output_type": "stream",
     "text": [
      "      Feature  Importance  Cluster Average  League Average\n",
      "0    Raptor O    0.417849         4.279643       -0.437636\n",
      "1        ORtg    0.405627       114.889643      107.406624\n",
      "2         TS%    0.401606        57.958214       53.956942\n",
      "3   Raptor+/-    0.394562         4.742857       -0.499660\n",
      "4        PIE%    0.304490        16.210000        9.413770\n",
      "5        3PAr    0.279610        24.407857       27.469964\n",
      "6         2P%    0.268415        51.351071       48.971892\n",
      "7         3P%    0.268160        34.383571       28.084959\n",
      "8        AST%    0.141893        28.515357       13.661025\n",
      "9    Raptor D    0.082427         0.468571       -0.062228\n",
      "10       %Pos    0.033534        28.680357       19.028335\n",
      "11       FTAr    0.028450        37.537857       27.541833\n",
      "12       USG%    0.013730        28.487143       19.035345\n"
     ]
    },
    {
     "data": {
      "image/png": "[encoded data removed]",
      "text/plain": [
       "<Figure size 720x360 with 1 Axes>"
      ]
     },
     "metadata": {
      "needs_background": "light"
     },
     "output_type": "display_data"
    },
    {
     "data": {
      "image/png": "[encoded data removed]",
      "text/plain": [
       "<Figure size 720x432 with 1 Axes>"
      ]
     },
     "metadata": {
      "needs_background": "light"
     },
     "output_type": "display_data"
    }
   ],
   "source": [
    "C4_data = pd.read_sql(\n",
    "    \"\"\"\n",
    "    SELECT * FROM CLUSTERS_4\n",
    "    WHERE gmm_cluster=4\n",
    "    \"\"\", conn)\n",
    "\n",
    "fi4 = cf.feature_importance(C4_data, mod_df, 3).reset_index().drop('index', axis=1)\n",
    "print(fi4)\n",
    "fig = plt.figure(figsize = (10, 5)) \n",
    "  \n",
    "# creating the bar plot \n",
    "\n",
    "plt.bar(C4_data['pos'].unique(), C4_data['pos'].value_counts(), color ='#a77fc6') \n",
    "  \n",
    "plt.xlabel(\"Cluster\") \n",
    "plt.ylabel(\"No. of players\") \n",
    "plt.title(\"Positions Assigned to Cluster 4\") \n",
    "plt.show() \n",
    "cf.bar_features(fi4, 'Cluster 4', '#a77fc6')"
   ]
  },
  {
   "cell_type": "markdown",
   "metadata": {},
   "source": [
    "------------"
   ]
  },
  {
   "cell_type": "markdown",
   "metadata": {},
   "source": [
    "*C5*:\n",
    "Traditional center mold, or PF without range, but a knack for scoring around the rim. They clean up rebounds and are likely the most impactful defender on your team. \n",
    "- Dwight Howard\n",
    "- Rudy Gobert\n",
    "- Tyson Chandler"
   ]
  },
  {
   "cell_type": "code",
   "execution_count": 156,
   "metadata": {},
   "outputs": [
    {
     "name": "stdout",
     "output_type": "stream",
     "text": [
      "      Feature  Importance  Cluster Average  League Average\n",
      "0        %Pos    0.439810        17.647959       19.028335\n",
      "1        USG%    0.431023        17.214286       19.035345\n",
      "2        PIE%    0.373040        11.638571        9.413770\n",
      "3        AST%    0.311006         8.445510       13.661025\n",
      "4   Raptor+/-    0.293641         1.101837       -0.499660\n",
      "5    Raptor O    0.292720        -0.361633       -0.437636\n",
      "6    Raptor D    0.129444         1.460816       -0.062228\n",
      "7         3P%    0.063547        11.497551       28.084959\n",
      "8        3PAr   -0.000423         3.633469       27.469964\n",
      "9        FTAr   -0.132815        43.860000       27.541833\n",
      "10       ORtg   -0.207658       117.729796      107.406624\n",
      "11        TS%   -0.235630        60.024082       53.956942\n",
      "12        2P%   -0.275527        57.825102       48.971892\n"
     ]
    },
    {
     "data": {
      "image/png": "[encoded data removed]",
      "text/plain": [
       "<Figure size 720x360 with 1 Axes>"
      ]
     },
     "metadata": {
      "needs_background": "light"
     },
     "output_type": "display_data"
    },
    {
     "data": {
      "image/png": "[encoded data removed]",
      "text/plain": [
       "<Figure size 720x432 with 1 Axes>"
      ]
     },
     "metadata": {
      "needs_background": "light"
     },
     "output_type": "display_data"
    }
   ],
   "source": [
    "C5_data = pd.read_sql(\n",
    "    \"\"\"\n",
    "    SELECT * FROM CLUSTERS_4\n",
    "    WHERE gmm_cluster=5\n",
    "    \"\"\", conn)\n",
    "fi5=cf.feature_importance(C5_data, mod_df,3).reset_index().drop('index', axis=1)\n",
    "print(fi5)\n",
    "fig = plt.figure(figsize = (10, 5)) \n",
    "  \n",
    "# creating the bar plot \n",
    "\n",
    "plt.bar(C5_data['pos'].unique(), C5_data['pos'].value_counts(), color ='#a06a5e') \n",
    "  \n",
    "plt.xlabel(\"Cluster\") \n",
    "plt.ylabel(\"No. of players\") \n",
    "plt.title(\"Positions Assigned to Cluster 5\") \n",
    "plt.show() \n",
    "cf.bar_features(fi5, 'Cluster 5', '#a06a5e')"
   ]
  },
  {
   "cell_type": "markdown",
   "metadata": {},
   "source": [
    "#### 4. Prediction Model"
   ]
  },
  {
   "cell_type": "code",
   "execution_count": null,
   "metadata": {},
   "outputs": [],
   "source": []
  },
  {
   "cell_type": "code",
   "execution_count": null,
   "metadata": {},
   "outputs": [],
   "source": []
  },
  {
   "cell_type": "code",
   "execution_count": null,
   "metadata": {},
   "outputs": [],
   "source": []
  },
  {
   "cell_type": "markdown",
   "metadata": {},
   "source": [
    "## IV. Conclusions\n"
   ]
  },
  {
   "cell_type": "code",
   "execution_count": null,
   "metadata": {},
   "outputs": [],
   "source": []
  },
  {
   "cell_type": "markdown",
   "metadata": {},
   "source": [
    "## V. Recommendations"
   ]
  },
  {
   "cell_type": "markdown",
   "metadata": {},
   "source": [
    "Scouts and front office executives can use this this tool for the following purposes:\n",
    "\n",
    "- View young player's potential career trajectory\n",
    "- Track player development year over year, adjust strategies \n",
    "- Evaluate young players to make decisions on contract commitments\n",
    "- Better focus scouting on players who would potentially fill needs"
   ]
  },
  {
   "cell_type": "markdown",
   "metadata": {},
   "source": [
    "\n",
    "## VI. Next Steps"
   ]
  },
  {
   "cell_type": "markdown",
   "metadata": {},
   "source": [
    " - Include international player statistics\n",
    " - Explore additional clustering and dimensionality reduction methods \n",
    " - Create a web application for clients using Flask or Dash"
   ]
  },
  {
   "cell_type": "code",
   "execution_count": null,
   "metadata": {},
   "outputs": [],
   "source": [
    "conn.close()"
   ]
  }
 ],
 "metadata": {
  "kernelspec": {
   "display_name": "Python [conda env:ai-scout] *",
   "language": "python",
   "name": "conda-env-ai-scout-py"
  },
  "language_info": {
   "codemirror_mode": {
    "name": "ipython",
    "version": 3
   },
   "file_extension": ".py",
   "mimetype": "text/x-python",
   "name": "python",
   "nbconvert_exporter": "python",
   "pygments_lexer": "ipython3",
   "version": "3.6.10"
  }
 },
 "nbformat": 4,
 "nbformat_minor": 4
}
